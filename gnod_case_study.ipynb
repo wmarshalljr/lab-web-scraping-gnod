{
 "cells": [
  {
   "cell_type": "markdown",
   "metadata": {},
   "source": [
    "# Gnod case study: Top 100 songs recommender"
   ]
  },
  {
   "cell_type": "code",
   "execution_count": 1,
   "metadata": {},
   "outputs": [],
   "source": [
    "from bs4 import BeautifulSoup\n",
    "import requests\n",
    "import pandas as pd\n",
    "import random\n",
    "from time import sleep"
   ]
  },
  {
   "cell_type": "markdown",
   "metadata": {},
   "source": [
    "# Lab 6.1: Scraping top 100 chart from popvortex.com and converting to dataframe"
   ]
  },
  {
   "cell_type": "code",
   "execution_count": 39,
   "metadata": {},
   "outputs": [],
   "source": [
    "url = \"https://www.popvortex.com/music/charts/top-100-songs.php\""
   ]
  },
  {
   "cell_type": "code",
   "execution_count": 40,
   "metadata": {},
   "outputs": [
    {
     "data": {
      "text/plain": [
       "200"
      ]
     },
     "execution_count": 40,
     "metadata": {},
     "output_type": "execute_result"
    }
   ],
   "source": [
    "response = requests.get(url)\n",
    "response.status_code"
   ]
  },
  {
   "cell_type": "code",
   "execution_count": 41,
   "metadata": {},
   "outputs": [],
   "source": [
    "soup = BeautifulSoup(response.content, \"html.parser\")"
   ]
  },
  {
   "cell_type": "code",
   "execution_count": null,
   "metadata": {},
   "outputs": [],
   "source": [
    "print(soup.prettify())"
   ]
  },
  {
   "cell_type": "code",
   "execution_count": null,
   "metadata": {},
   "outputs": [],
   "source": [
    "# Selector script that we want to parse\n",
    "\n",
    "#chart-position-1 > div.chart-content.col-xs-12.col-sm-8 > p > cite\n",
    "\n",
    "#chart-position-1 > div.chart-content.col-xs-12.col-sm-8 > ul > li:nth-child(1) > a"
   ]
  },
  {
   "cell_type": "code",
   "execution_count": null,
   "metadata": {},
   "outputs": [],
   "source": [
    "soup.select(\"cite.title\")\n",
    "soup.select('em.artist')\n",
    "soup.select('p.chart-position')"
   ]
  },
  {
   "cell_type": "code",
   "execution_count": 26,
   "metadata": {},
   "outputs": [
    {
     "data": {
      "text/plain": [
       "'Unholy'"
      ]
     },
     "execution_count": 26,
     "metadata": {},
     "output_type": "execute_result"
    }
   ],
   "source": [
    "soup.select('cite.title')[0].get_text()"
   ]
  },
  {
   "cell_type": "code",
   "execution_count": 39,
   "metadata": {},
   "outputs": [
    {
     "data": {
      "text/plain": [
       "'Sam Smith & Kim Petras'"
      ]
     },
     "execution_count": 39,
     "metadata": {},
     "output_type": "execute_result"
    }
   ],
   "source": [
    "soup.select('em.artist')[0].get_text()\n"
   ]
  },
  {
   "cell_type": "code",
   "execution_count": 103,
   "metadata": {},
   "outputs": [
    {
     "data": {
      "text/plain": [
       "'1'"
      ]
     },
     "execution_count": 103,
     "metadata": {},
     "output_type": "execute_result"
    }
   ],
   "source": [
    "soup.select('p.chart-position')[0].get_text()"
   ]
  },
  {
   "cell_type": "code",
   "execution_count": 153,
   "metadata": {},
   "outputs": [
    {
     "data": {
      "text/plain": [
       "'Pop'"
      ]
     },
     "execution_count": 153,
     "metadata": {},
     "output_type": "execute_result"
    }
   ],
   "source": [
    "soup.select('#chart-position-1 > div.chart-content.col-xs-12.col-sm-8 > ul > li:nth-child(1) > a')[0].get_text()"
   ]
  },
  {
   "cell_type": "code",
   "execution_count": 166,
   "metadata": {},
   "outputs": [
    {
     "data": {
      "text/plain": [
       "[]"
      ]
     },
     "execution_count": 166,
     "metadata": {},
     "output_type": "execute_result"
    }
   ],
   "source": [
    "soup.select('#div.chart-content.col-xs-12.col-sm-8 > ul')"
   ]
  },
  {
   "cell_type": "code",
   "execution_count": null,
   "metadata": {},
   "outputs": [],
   "source": [
    "soup.select('li:a')[0].get_text()"
   ]
  },
  {
   "cell_type": "code",
   "execution_count": null,
   "metadata": {},
   "outputs": [],
   "source": [
    "# Working on getting the Genre from popvortex but its more difficult so sticking with the three for now.\n",
    "\n",
    "# genre = []\n",
    "\n",
    "# for g in soup.select(\"li\"):\n",
    "#     link = soup.get(\"href\")\n",
    "#     print(link)\n",
    "#     if link is not None:\n",
    "#         if ((\"/music\" not in link) & \n",
    "#             (\"/charts\" not in link)):\n",
    "#             genre.append(soup[\"href\"])"
   ]
  },
  {
   "cell_type": "code",
   "execution_count": 42,
   "metadata": {},
   "outputs": [],
   "source": [
    "#initialize empty lists\n",
    "title = []\n",
    "artist = []\n",
    "rank = []\n",
    "genre = []\n",
    "\n",
    "# Number of iterations\n",
    "num_iter = len(soup.select(\"cite.title\"))\n",
    "\n",
    "# Setting up what to iterate for each empty list\n",
    "t_list = soup.select(\"cite.title\")\n",
    "a_list = soup.select(\"em.artist\")\n",
    "chart_rank = soup.select('p.chart-position')\n",
    "gen = soup.select('#chart-position-1 > div.chart-content.col-xs-12.col-sm-8 > ul > li:nth-child(1) > a')\n",
    "\n",
    "# iterate through the result set and retrive all the data\n",
    "for i in range(num_iter):\n",
    "    title.append(t_list[i].get_text())\n",
    "    artist.append(a_list[i].get_text())\n",
    "    rank.append(chart_rank[i].get_text())\n",
    "    genre.append(gen[0])\n",
    "\n",
    "# Checking results\n",
    "# print(title)\n",
    "# print(artist)\n",
    "# print(rank)\n",
    "# print(genre)"
   ]
  },
  {
   "cell_type": "code",
   "execution_count": 43,
   "metadata": {},
   "outputs": [],
   "source": [
    "# Converting our lists into a dataframe\n",
    "\n",
    "top_100 = pd.DataFrame({\"rank\":rank,\n",
    "                        \"title\":title,\n",
    "                       \"artist\":artist,\n",
    "                       \"genre\":genre\n",
    "                      })"
   ]
  },
  {
   "cell_type": "code",
   "execution_count": 44,
   "metadata": {},
   "outputs": [
    {
     "data": {
      "text/html": [
       "<div>\n",
       "<style scoped>\n",
       "    .dataframe tbody tr th:only-of-type {\n",
       "        vertical-align: middle;\n",
       "    }\n",
       "\n",
       "    .dataframe tbody tr th {\n",
       "        vertical-align: top;\n",
       "    }\n",
       "\n",
       "    .dataframe thead th {\n",
       "        text-align: right;\n",
       "    }\n",
       "</style>\n",
       "<table border=\"1\" class=\"dataframe\">\n",
       "  <thead>\n",
       "    <tr style=\"text-align: right;\">\n",
       "      <th></th>\n",
       "      <th>rank</th>\n",
       "      <th>title</th>\n",
       "      <th>artist</th>\n",
       "      <th>genre</th>\n",
       "    </tr>\n",
       "  </thead>\n",
       "  <tbody>\n",
       "    <tr>\n",
       "      <th>0</th>\n",
       "      <td>1</td>\n",
       "      <td>Unholy</td>\n",
       "      <td>Sam Smith &amp; Kim Petras</td>\n",
       "      <td>[Pop]</td>\n",
       "    </tr>\n",
       "    <tr>\n",
       "      <th>1</th>\n",
       "      <td>2</td>\n",
       "      <td>Eagle (feat. KB)</td>\n",
       "      <td>Transformation Worship</td>\n",
       "      <td>[Pop]</td>\n",
       "    </tr>\n",
       "    <tr>\n",
       "      <th>2</th>\n",
       "      <td>3</td>\n",
       "      <td>Everywhere</td>\n",
       "      <td>Fleetwood Mac</td>\n",
       "      <td>[Pop]</td>\n",
       "    </tr>\n",
       "    <tr>\n",
       "      <th>3</th>\n",
       "      <td>4</td>\n",
       "      <td>I'm Good (Blue)</td>\n",
       "      <td>David Guetta &amp; Bebe Rexha</td>\n",
       "      <td>[Pop]</td>\n",
       "    </tr>\n",
       "    <tr>\n",
       "      <th>4</th>\n",
       "      <td>5</td>\n",
       "      <td>wait in the truck</td>\n",
       "      <td>HARDY &amp; Lainey Wilson</td>\n",
       "      <td>[Pop]</td>\n",
       "    </tr>\n",
       "    <tr>\n",
       "      <th>...</th>\n",
       "      <td>...</td>\n",
       "      <td>...</td>\n",
       "      <td>...</td>\n",
       "      <td>...</td>\n",
       "    </tr>\n",
       "    <tr>\n",
       "      <th>95</th>\n",
       "      <td>96</td>\n",
       "      <td>Boulevard of Broken Dreams (feat. John Gallagh...</td>\n",
       "      <td>Green Day</td>\n",
       "      <td>[Pop]</td>\n",
       "    </tr>\n",
       "    <tr>\n",
       "      <th>96</th>\n",
       "      <td>97</td>\n",
       "      <td>Top Of The World</td>\n",
       "      <td>Shawn Mendes</td>\n",
       "      <td>[Pop]</td>\n",
       "    </tr>\n",
       "    <tr>\n",
       "      <th>97</th>\n",
       "      <td>98</td>\n",
       "      <td>Ghostbusters</td>\n",
       "      <td>Ray Parker Jr.</td>\n",
       "      <td>[Pop]</td>\n",
       "    </tr>\n",
       "    <tr>\n",
       "      <th>98</th>\n",
       "      <td>99</td>\n",
       "      <td>Perfectly Loved (feat. TobyMac)</td>\n",
       "      <td>Rachael Lampa</td>\n",
       "      <td>[Pop]</td>\n",
       "    </tr>\n",
       "    <tr>\n",
       "      <th>99</th>\n",
       "      <td>100</td>\n",
       "      <td>We Don't Talk About Bruno</td>\n",
       "      <td>Carolina Gaitán - La Gaita, Mauro Castillo, Ad...</td>\n",
       "      <td>[Pop]</td>\n",
       "    </tr>\n",
       "  </tbody>\n",
       "</table>\n",
       "<p>100 rows × 4 columns</p>\n",
       "</div>"
      ],
      "text/plain": [
       "   rank                                              title  \\\n",
       "0     1                                             Unholy   \n",
       "1     2                                   Eagle (feat. KB)   \n",
       "2     3                                         Everywhere   \n",
       "3     4                                    I'm Good (Blue)   \n",
       "4     5                                  wait in the truck   \n",
       "..  ...                                                ...   \n",
       "95   96  Boulevard of Broken Dreams (feat. John Gallagh...   \n",
       "96   97                                   Top Of The World   \n",
       "97   98                                       Ghostbusters   \n",
       "98   99                    Perfectly Loved (feat. TobyMac)   \n",
       "99  100                          We Don't Talk About Bruno   \n",
       "\n",
       "                                               artist  genre  \n",
       "0                              Sam Smith & Kim Petras  [Pop]  \n",
       "1                              Transformation Worship  [Pop]  \n",
       "2                                       Fleetwood Mac  [Pop]  \n",
       "3                           David Guetta & Bebe Rexha  [Pop]  \n",
       "4                               HARDY & Lainey Wilson  [Pop]  \n",
       "..                                                ...    ...  \n",
       "95                                          Green Day  [Pop]  \n",
       "96                                       Shawn Mendes  [Pop]  \n",
       "97                                     Ray Parker Jr.  [Pop]  \n",
       "98                                      Rachael Lampa  [Pop]  \n",
       "99  Carolina Gaitán - La Gaita, Mauro Castillo, Ad...  [Pop]  \n",
       "\n",
       "[100 rows x 4 columns]"
      ]
     },
     "execution_count": 44,
     "metadata": {},
     "output_type": "execute_result"
    }
   ],
   "source": [
    "# We now see 100 rows with rank, title and artist information (note: not indexed to rank)\n",
    "\n",
    "# Note: We are still working on making the genre column correct...\n",
    "\n",
    "top_100"
   ]
  },
  {
   "cell_type": "code",
   "execution_count": 45,
   "metadata": {},
   "outputs": [
    {
     "name": "stdout",
     "output_type": "stream",
     "text": [
      "Welcome to Gnod song recommender!\n",
      "Enter the name of your favorite song to recieve a recommendation:\n",
      "Based on your input, we recommend: Bedroom Singer\n"
     ]
    }
   ],
   "source": [
    "# Recommendations (for a random song) based on user input\n",
    "\n",
    "print('Welcome to Gnod song recommender!')\n",
    "print('Enter the name of your favorite song to recieve a recommendation:') \n",
    "\n",
    "str(input())\n",
    "\n",
    "rand_idx = random.randrange(len(top_100['title']))\n",
    "random_rec = title[rand_idx]\n",
    "\n",
    "print('Based on your input, we recommend: ' + random_rec)"
   ]
  },
  {
   "cell_type": "markdown",
   "metadata": {},
   "source": [
    "# Lab 6.2: Scraping multiple sheets"
   ]
  },
  {
   "cell_type": "code",
   "execution_count": 174,
   "metadata": {},
   "outputs": [],
   "source": [
    "url2 = \"https://www.popvortex.com/music/france/top-songs.php\""
   ]
  },
  {
   "cell_type": "code",
   "execution_count": 175,
   "metadata": {},
   "outputs": [],
   "source": [
    "response2 = requests.get(url2)\n",
    "\n",
    "soup2 = BeautifulSoup(response2.content, \"html.parser\")"
   ]
  },
  {
   "cell_type": "code",
   "execution_count": 182,
   "metadata": {},
   "outputs": [],
   "source": [
    "# Expanding the sample of songs\n",
    "\n",
    "#initialize empty lists\n",
    "title2 = []\n",
    "artist2 = []\n",
    "\n",
    "# Number of iterations\n",
    "num_iter2 = len(soup2.select(\"cite.title\"))\n",
    "\n",
    "# Setting up what to iterate for each empty list\n",
    "t_list2 = soup2.select(\"cite.title\")\n",
    "a_list2 = soup2.select(\"em.artist\")\n",
    "\n",
    "# iterate through the result set and retrive all the data\n",
    "for i in range(num_iter2):\n",
    "    title2.append(t_list2[i].get_text())\n",
    "    artist2.append(a_list2[i].get_text())"
   ]
  },
  {
   "cell_type": "code",
   "execution_count": 183,
   "metadata": {},
   "outputs": [],
   "source": [
    "top_100_france = pd.DataFrame({\"title\":title,\n",
    "                       \"artist\":artist,\n",
    "                      })"
   ]
  },
  {
   "cell_type": "code",
   "execution_count": 184,
   "metadata": {},
   "outputs": [],
   "source": [
    "songs = top_100.copy()"
   ]
  },
  {
   "cell_type": "code",
   "execution_count": 188,
   "metadata": {},
   "outputs": [],
   "source": [
    "songs = songs.drop(['rank', 'genre'], axis=1)"
   ]
  },
  {
   "cell_type": "code",
   "execution_count": 192,
   "metadata": {},
   "outputs": [
    {
     "data": {
      "text/html": [
       "<div>\n",
       "<style scoped>\n",
       "    .dataframe tbody tr th:only-of-type {\n",
       "        vertical-align: middle;\n",
       "    }\n",
       "\n",
       "    .dataframe tbody tr th {\n",
       "        vertical-align: top;\n",
       "    }\n",
       "\n",
       "    .dataframe thead th {\n",
       "        text-align: right;\n",
       "    }\n",
       "</style>\n",
       "<table border=\"1\" class=\"dataframe\">\n",
       "  <thead>\n",
       "    <tr style=\"text-align: right;\">\n",
       "      <th></th>\n",
       "      <th>title</th>\n",
       "      <th>artist</th>\n",
       "    </tr>\n",
       "  </thead>\n",
       "  <tbody>\n",
       "    <tr>\n",
       "      <th>0</th>\n",
       "      <td>Unholy</td>\n",
       "      <td>Sam Smith &amp; Kim Petras</td>\n",
       "    </tr>\n",
       "    <tr>\n",
       "      <th>1</th>\n",
       "      <td>Eagle (feat. KB)</td>\n",
       "      <td>Transformation Worship</td>\n",
       "    </tr>\n",
       "    <tr>\n",
       "      <th>2</th>\n",
       "      <td>Everywhere</td>\n",
       "      <td>Fleetwood Mac</td>\n",
       "    </tr>\n",
       "    <tr>\n",
       "      <th>3</th>\n",
       "      <td>I'm Good (Blue)</td>\n",
       "      <td>David Guetta &amp; Bebe Rexha</td>\n",
       "    </tr>\n",
       "    <tr>\n",
       "      <th>4</th>\n",
       "      <td>wait in the truck</td>\n",
       "      <td>HARDY &amp; Lainey Wilson</td>\n",
       "    </tr>\n",
       "    <tr>\n",
       "      <th>...</th>\n",
       "      <td>...</td>\n",
       "      <td>...</td>\n",
       "    </tr>\n",
       "    <tr>\n",
       "      <th>195</th>\n",
       "      <td>We Don't Talk About Bruno</td>\n",
       "      <td>Carolina Gaitán - La Gaita, Mauro Castillo, Ad...</td>\n",
       "    </tr>\n",
       "    <tr>\n",
       "      <th>196</th>\n",
       "      <td>Me Porto Bonito</td>\n",
       "      <td>Bad Bunny &amp; Chencho Corleone</td>\n",
       "    </tr>\n",
       "    <tr>\n",
       "      <th>197</th>\n",
       "      <td>Whiskey Glasses</td>\n",
       "      <td>Morgan Wallen</td>\n",
       "    </tr>\n",
       "    <tr>\n",
       "      <th>198</th>\n",
       "      <td>Don't You (Forget About Me)</td>\n",
       "      <td>Simple Minds</td>\n",
       "    </tr>\n",
       "    <tr>\n",
       "      <th>199</th>\n",
       "      <td>Starting Over</td>\n",
       "      <td>Chris Stapleton</td>\n",
       "    </tr>\n",
       "  </tbody>\n",
       "</table>\n",
       "<p>200 rows × 2 columns</p>\n",
       "</div>"
      ],
      "text/plain": [
       "                           title  \\\n",
       "0                         Unholy   \n",
       "1               Eagle (feat. KB)   \n",
       "2                     Everywhere   \n",
       "3                I'm Good (Blue)   \n",
       "4              wait in the truck   \n",
       "..                           ...   \n",
       "195    We Don't Talk About Bruno   \n",
       "196              Me Porto Bonito   \n",
       "197              Whiskey Glasses   \n",
       "198  Don't You (Forget About Me)   \n",
       "199                Starting Over   \n",
       "\n",
       "                                                artist  \n",
       "0                               Sam Smith & Kim Petras  \n",
       "1                               Transformation Worship  \n",
       "2                                        Fleetwood Mac  \n",
       "3                            David Guetta & Bebe Rexha  \n",
       "4                                HARDY & Lainey Wilson  \n",
       "..                                                 ...  \n",
       "195  Carolina Gaitán - La Gaita, Mauro Castillo, Ad...  \n",
       "196                       Bad Bunny & Chencho Corleone  \n",
       "197                                      Morgan Wallen  \n",
       "198                                       Simple Minds  \n",
       "199                                    Chris Stapleton  \n",
       "\n",
       "[200 rows x 2 columns]"
      ]
     },
     "execution_count": 192,
     "metadata": {},
     "output_type": "execute_result"
    }
   ],
   "source": [
    "# Concatenating the top 100 list from the US with that of France\n",
    "\n",
    "songs_list = pd.concat([songs, top_100_france], axis=0).reset_index(drop=True)\n",
    "\n",
    "songs_list"
   ]
  },
  {
   "cell_type": "code",
   "execution_count": 46,
   "metadata": {},
   "outputs": [
    {
     "data": {
      "text/html": [
       "<div>\n",
       "<style scoped>\n",
       "    .dataframe tbody tr th:only-of-type {\n",
       "        vertical-align: middle;\n",
       "    }\n",
       "\n",
       "    .dataframe tbody tr th {\n",
       "        vertical-align: top;\n",
       "    }\n",
       "\n",
       "    .dataframe thead th {\n",
       "        text-align: right;\n",
       "    }\n",
       "</style>\n",
       "<table border=\"1\" class=\"dataframe\">\n",
       "  <thead>\n",
       "    <tr style=\"text-align: right;\">\n",
       "      <th></th>\n",
       "      <th>title</th>\n",
       "      <th>artist</th>\n",
       "    </tr>\n",
       "  </thead>\n",
       "  <tbody>\n",
       "    <tr>\n",
       "      <th>0</th>\n",
       "      <td>Calm Down</td>\n",
       "      <td>Rema</td>\n",
       "    </tr>\n",
       "    <tr>\n",
       "      <th>1</th>\n",
       "      <td>Call on me (feat. Ed Sheeran)</td>\n",
       "      <td>Vianney</td>\n",
       "    </tr>\n",
       "    <tr>\n",
       "      <th>2</th>\n",
       "      <td>I'm Good (Blue)</td>\n",
       "      <td>David Guetta &amp; Bebe Rexha</td>\n",
       "    </tr>\n",
       "    <tr>\n",
       "      <th>3</th>\n",
       "      <td>As It Was</td>\n",
       "      <td>Harry Styles</td>\n",
       "    </tr>\n",
       "    <tr>\n",
       "      <th>4</th>\n",
       "      <td>Don't You Worry</td>\n",
       "      <td>Black Eyed Peas, Shakira &amp; David Guetta</td>\n",
       "    </tr>\n",
       "    <tr>\n",
       "      <th>...</th>\n",
       "      <td>...</td>\n",
       "      <td>...</td>\n",
       "    </tr>\n",
       "    <tr>\n",
       "      <th>195</th>\n",
       "      <td>Boulevard of Broken Dreams (feat. John Gallagh...</td>\n",
       "      <td>Green Day</td>\n",
       "    </tr>\n",
       "    <tr>\n",
       "      <th>196</th>\n",
       "      <td>Top Of The World</td>\n",
       "      <td>Shawn Mendes</td>\n",
       "    </tr>\n",
       "    <tr>\n",
       "      <th>197</th>\n",
       "      <td>Ghostbusters</td>\n",
       "      <td>Ray Parker Jr.</td>\n",
       "    </tr>\n",
       "    <tr>\n",
       "      <th>198</th>\n",
       "      <td>Perfectly Loved (feat. TobyMac)</td>\n",
       "      <td>Rachael Lampa</td>\n",
       "    </tr>\n",
       "    <tr>\n",
       "      <th>199</th>\n",
       "      <td>We Don't Talk About Bruno</td>\n",
       "      <td>Carolina Gaitán - La Gaita, Mauro Castillo, Ad...</td>\n",
       "    </tr>\n",
       "  </tbody>\n",
       "</table>\n",
       "<p>183 rows × 2 columns</p>\n",
       "</div>"
      ],
      "text/plain": [
       "                                                 title  \\\n",
       "0                                            Calm Down   \n",
       "1                        Call on me (feat. Ed Sheeran)   \n",
       "2                                      I'm Good (Blue)   \n",
       "3                                            As It Was   \n",
       "4                                      Don't You Worry   \n",
       "..                                                 ...   \n",
       "195  Boulevard of Broken Dreams (feat. John Gallagh...   \n",
       "196                                   Top Of The World   \n",
       "197                                       Ghostbusters   \n",
       "198                    Perfectly Loved (feat. TobyMac)   \n",
       "199                          We Don't Talk About Bruno   \n",
       "\n",
       "                                                artist  \n",
       "0                                                 Rema  \n",
       "1                                              Vianney  \n",
       "2                            David Guetta & Bebe Rexha  \n",
       "3                                         Harry Styles  \n",
       "4              Black Eyed Peas, Shakira & David Guetta  \n",
       "..                                                 ...  \n",
       "195                                          Green Day  \n",
       "196                                       Shawn Mendes  \n",
       "197                                     Ray Parker Jr.  \n",
       "198                                      Rachael Lampa  \n",
       "199  Carolina Gaitán - La Gaita, Mauro Castillo, Ad...  \n",
       "\n",
       "[183 rows x 2 columns]"
      ]
     },
     "execution_count": 46,
     "metadata": {},
     "output_type": "execute_result"
    }
   ],
   "source": [
    "# Removing duplicates (looks like 17 rows removed)\n",
    "\n",
    "songs_list.drop_duplicates()"
   ]
  },
  {
   "cell_type": "markdown",
   "metadata": {},
   "source": [
    "# Same operation as above, but using a function"
   ]
  },
  {
   "cell_type": "code",
   "execution_count": 4,
   "metadata": {},
   "outputs": [],
   "source": [
    "def scraper(url):\n",
    "\n",
    "    response3 = requests.get(url)\n",
    "    soup3 = BeautifulSoup(response3.content, \"html.parser\")\n",
    "\n",
    "    titles = []\n",
    "    artists = []\n",
    "\n",
    "    num_iters = len(soup3.select(\"cite.title\"))\n",
    "\n",
    "    t_lists = soup3.select(\"cite.title\")\n",
    "    a_lists = soup3.select(\"em.artist\")\n",
    "\n",
    "    for i in range(num_iters):\n",
    "        titles.append(t_lists[i].get_text())\n",
    "        artists.append(a_lists[i].get_text())\n",
    "    \n",
    "    test = pd.DataFrame({\"title\":titles,\n",
    "                       \"artist\":artists})\n",
    "    return test"
   ]
  },
  {
   "cell_type": "code",
   "execution_count": 8,
   "metadata": {},
   "outputs": [],
   "source": [
    "urls1 = 'https://www.popvortex.com/music/france/top-songs.php'\n",
    "urls2 = 'https://www.popvortex.com/music/charts/top-100-songs.php'\n",
    "\n",
    "france_100 = scraper(urls1)\n",
    "us_100 = scraper(urls2)"
   ]
  },
  {
   "cell_type": "code",
   "execution_count": 9,
   "metadata": {},
   "outputs": [
    {
     "data": {
      "text/html": [
       "<div>\n",
       "<style scoped>\n",
       "    .dataframe tbody tr th:only-of-type {\n",
       "        vertical-align: middle;\n",
       "    }\n",
       "\n",
       "    .dataframe tbody tr th {\n",
       "        vertical-align: top;\n",
       "    }\n",
       "\n",
       "    .dataframe thead th {\n",
       "        text-align: right;\n",
       "    }\n",
       "</style>\n",
       "<table border=\"1\" class=\"dataframe\">\n",
       "  <thead>\n",
       "    <tr style=\"text-align: right;\">\n",
       "      <th></th>\n",
       "      <th>title</th>\n",
       "      <th>artist</th>\n",
       "    </tr>\n",
       "  </thead>\n",
       "  <tbody>\n",
       "    <tr>\n",
       "      <th>0</th>\n",
       "      <td>Calm Down</td>\n",
       "      <td>Rema</td>\n",
       "    </tr>\n",
       "    <tr>\n",
       "      <th>1</th>\n",
       "      <td>Call on me (feat. Ed Sheeran)</td>\n",
       "      <td>Vianney</td>\n",
       "    </tr>\n",
       "    <tr>\n",
       "      <th>2</th>\n",
       "      <td>I'm Good (Blue)</td>\n",
       "      <td>David Guetta &amp; Bebe Rexha</td>\n",
       "    </tr>\n",
       "    <tr>\n",
       "      <th>3</th>\n",
       "      <td>As It Was</td>\n",
       "      <td>Harry Styles</td>\n",
       "    </tr>\n",
       "    <tr>\n",
       "      <th>4</th>\n",
       "      <td>Don't You Worry</td>\n",
       "      <td>Black Eyed Peas, Shakira &amp; David Guetta</td>\n",
       "    </tr>\n",
       "    <tr>\n",
       "      <th>...</th>\n",
       "      <td>...</td>\n",
       "      <td>...</td>\n",
       "    </tr>\n",
       "    <tr>\n",
       "      <th>195</th>\n",
       "      <td>Boulevard of Broken Dreams (feat. John Gallagh...</td>\n",
       "      <td>Green Day</td>\n",
       "    </tr>\n",
       "    <tr>\n",
       "      <th>196</th>\n",
       "      <td>Top Of The World</td>\n",
       "      <td>Shawn Mendes</td>\n",
       "    </tr>\n",
       "    <tr>\n",
       "      <th>197</th>\n",
       "      <td>Ghostbusters</td>\n",
       "      <td>Ray Parker Jr.</td>\n",
       "    </tr>\n",
       "    <tr>\n",
       "      <th>198</th>\n",
       "      <td>Perfectly Loved (feat. TobyMac)</td>\n",
       "      <td>Rachael Lampa</td>\n",
       "    </tr>\n",
       "    <tr>\n",
       "      <th>199</th>\n",
       "      <td>We Don't Talk About Bruno</td>\n",
       "      <td>Carolina Gaitán - La Gaita, Mauro Castillo, Ad...</td>\n",
       "    </tr>\n",
       "  </tbody>\n",
       "</table>\n",
       "<p>200 rows × 2 columns</p>\n",
       "</div>"
      ],
      "text/plain": [
       "                                                 title  \\\n",
       "0                                            Calm Down   \n",
       "1                        Call on me (feat. Ed Sheeran)   \n",
       "2                                      I'm Good (Blue)   \n",
       "3                                            As It Was   \n",
       "4                                      Don't You Worry   \n",
       "..                                                 ...   \n",
       "195  Boulevard of Broken Dreams (feat. John Gallagh...   \n",
       "196                                   Top Of The World   \n",
       "197                                       Ghostbusters   \n",
       "198                    Perfectly Loved (feat. TobyMac)   \n",
       "199                          We Don't Talk About Bruno   \n",
       "\n",
       "                                                artist  \n",
       "0                                                 Rema  \n",
       "1                                              Vianney  \n",
       "2                            David Guetta & Bebe Rexha  \n",
       "3                                         Harry Styles  \n",
       "4              Black Eyed Peas, Shakira & David Guetta  \n",
       "..                                                 ...  \n",
       "195                                          Green Day  \n",
       "196                                       Shawn Mendes  \n",
       "197                                     Ray Parker Jr.  \n",
       "198                                      Rachael Lampa  \n",
       "199  Carolina Gaitán - La Gaita, Mauro Castillo, Ad...  \n",
       "\n",
       "[200 rows x 2 columns]"
      ]
     },
     "execution_count": 9,
     "metadata": {},
     "output_type": "execute_result"
    }
   ],
   "source": [
    "songs_list = pd.concat([france_100, us_100], axis=0).reset_index(drop=True)\n",
    "\n",
    "songs_list"
   ]
  },
  {
   "cell_type": "code",
   "execution_count": 10,
   "metadata": {},
   "outputs": [
    {
     "data": {
      "text/html": [
       "<div>\n",
       "<style scoped>\n",
       "    .dataframe tbody tr th:only-of-type {\n",
       "        vertical-align: middle;\n",
       "    }\n",
       "\n",
       "    .dataframe tbody tr th {\n",
       "        vertical-align: top;\n",
       "    }\n",
       "\n",
       "    .dataframe thead th {\n",
       "        text-align: right;\n",
       "    }\n",
       "</style>\n",
       "<table border=\"1\" class=\"dataframe\">\n",
       "  <thead>\n",
       "    <tr style=\"text-align: right;\">\n",
       "      <th></th>\n",
       "      <th>title</th>\n",
       "      <th>artist</th>\n",
       "    </tr>\n",
       "  </thead>\n",
       "  <tbody>\n",
       "    <tr>\n",
       "      <th>0</th>\n",
       "      <td>Calm Down</td>\n",
       "      <td>Rema</td>\n",
       "    </tr>\n",
       "    <tr>\n",
       "      <th>1</th>\n",
       "      <td>Call on me (feat. Ed Sheeran)</td>\n",
       "      <td>Vianney</td>\n",
       "    </tr>\n",
       "    <tr>\n",
       "      <th>2</th>\n",
       "      <td>I'm Good (Blue)</td>\n",
       "      <td>David Guetta &amp; Bebe Rexha</td>\n",
       "    </tr>\n",
       "    <tr>\n",
       "      <th>3</th>\n",
       "      <td>As It Was</td>\n",
       "      <td>Harry Styles</td>\n",
       "    </tr>\n",
       "    <tr>\n",
       "      <th>4</th>\n",
       "      <td>Don't You Worry</td>\n",
       "      <td>Black Eyed Peas, Shakira &amp; David Guetta</td>\n",
       "    </tr>\n",
       "    <tr>\n",
       "      <th>...</th>\n",
       "      <td>...</td>\n",
       "      <td>...</td>\n",
       "    </tr>\n",
       "    <tr>\n",
       "      <th>195</th>\n",
       "      <td>Boulevard of Broken Dreams (feat. John Gallagh...</td>\n",
       "      <td>Green Day</td>\n",
       "    </tr>\n",
       "    <tr>\n",
       "      <th>196</th>\n",
       "      <td>Top Of The World</td>\n",
       "      <td>Shawn Mendes</td>\n",
       "    </tr>\n",
       "    <tr>\n",
       "      <th>197</th>\n",
       "      <td>Ghostbusters</td>\n",
       "      <td>Ray Parker Jr.</td>\n",
       "    </tr>\n",
       "    <tr>\n",
       "      <th>198</th>\n",
       "      <td>Perfectly Loved (feat. TobyMac)</td>\n",
       "      <td>Rachael Lampa</td>\n",
       "    </tr>\n",
       "    <tr>\n",
       "      <th>199</th>\n",
       "      <td>We Don't Talk About Bruno</td>\n",
       "      <td>Carolina Gaitán - La Gaita, Mauro Castillo, Ad...</td>\n",
       "    </tr>\n",
       "  </tbody>\n",
       "</table>\n",
       "<p>183 rows × 2 columns</p>\n",
       "</div>"
      ],
      "text/plain": [
       "                                                 title  \\\n",
       "0                                            Calm Down   \n",
       "1                        Call on me (feat. Ed Sheeran)   \n",
       "2                                      I'm Good (Blue)   \n",
       "3                                            As It Was   \n",
       "4                                      Don't You Worry   \n",
       "..                                                 ...   \n",
       "195  Boulevard of Broken Dreams (feat. John Gallagh...   \n",
       "196                                   Top Of The World   \n",
       "197                                       Ghostbusters   \n",
       "198                    Perfectly Loved (feat. TobyMac)   \n",
       "199                          We Don't Talk About Bruno   \n",
       "\n",
       "                                                artist  \n",
       "0                                                 Rema  \n",
       "1                                              Vianney  \n",
       "2                            David Guetta & Bebe Rexha  \n",
       "3                                         Harry Styles  \n",
       "4              Black Eyed Peas, Shakira & David Guetta  \n",
       "..                                                 ...  \n",
       "195                                          Green Day  \n",
       "196                                       Shawn Mendes  \n",
       "197                                     Ray Parker Jr.  \n",
       "198                                      Rachael Lampa  \n",
       "199  Carolina Gaitán - La Gaita, Mauro Castillo, Ad...  \n",
       "\n",
       "[183 rows x 2 columns]"
      ]
     },
     "execution_count": 10,
     "metadata": {},
     "output_type": "execute_result"
    }
   ],
   "source": [
    "songs_list.drop_duplicates()"
   ]
  },
  {
   "cell_type": "markdown",
   "metadata": {},
   "source": [
    "# Practicing scraping with another website - CoinMarketCap"
   ]
  },
  {
   "cell_type": "code",
   "execution_count": 11,
   "metadata": {},
   "outputs": [],
   "source": [
    "url_cmc = \"https://coinmarketcap.com/\""
   ]
  },
  {
   "cell_type": "code",
   "execution_count": 12,
   "metadata": {},
   "outputs": [],
   "source": [
    "response_cmc = requests.get(url_cmc)\n",
    "\n",
    "soup_cmc = BeautifulSoup(response_cmc.content, \"html.parser\")"
   ]
  },
  {
   "cell_type": "code",
   "execution_count": 14,
   "metadata": {},
   "outputs": [
    {
     "data": {
      "text/plain": [
       "'$367,990,849,787'"
      ]
     },
     "execution_count": 14,
     "metadata": {},
     "output_type": "execute_result"
    }
   ],
   "source": [
    "soup_cmc.select('p > span.sc-1ow4cwt-1.ieFnWP')[0].get_text()"
   ]
  },
  {
   "cell_type": "code",
   "execution_count": 28,
   "metadata": {},
   "outputs": [
    {
     "data": {
      "text/plain": [
       "'Bitcoin'"
      ]
     },
     "execution_count": 28,
     "metadata": {},
     "output_type": "execute_result"
    }
   ],
   "source": [
    "soup_cmc.select('div > a > div > div > p')[0].get_text()"
   ]
  },
  {
   "cell_type": "code",
   "execution_count": 34,
   "metadata": {},
   "outputs": [],
   "source": [
    "coin = []\n",
    "mcap = []\n",
    "\n",
    "num_iters = len(soup_cmc.select('p > span.sc-1ow4cwt-1.ieFnWP'))\n",
    "\n",
    "coin_list = soup_cmc.select('div > a > div > div > p')\n",
    "mcap_list = soup_cmc.select('p > span.sc-1ow4cwt-1.ieFnWP')\n",
    "\n",
    "for i in range(num_iters):\n",
    "    coin.append(coin_list[i].get_text())\n",
    "    mcap.append(mcap_list[i].get_text())\n",
    "    \n",
    "cmc_data = pd.DataFrame({\"coin\":coin,\n",
    "                       \"marketcap\":mcap})"
   ]
  },
  {
   "cell_type": "code",
   "execution_count": 35,
   "metadata": {},
   "outputs": [
    {
     "data": {
      "text/html": [
       "<div>\n",
       "<style scoped>\n",
       "    .dataframe tbody tr th:only-of-type {\n",
       "        vertical-align: middle;\n",
       "    }\n",
       "\n",
       "    .dataframe tbody tr th {\n",
       "        vertical-align: top;\n",
       "    }\n",
       "\n",
       "    .dataframe thead th {\n",
       "        text-align: right;\n",
       "    }\n",
       "</style>\n",
       "<table border=\"1\" class=\"dataframe\">\n",
       "  <thead>\n",
       "    <tr style=\"text-align: right;\">\n",
       "      <th></th>\n",
       "      <th>coin</th>\n",
       "      <th>marketcap</th>\n",
       "    </tr>\n",
       "  </thead>\n",
       "  <tbody>\n",
       "    <tr>\n",
       "      <th>0</th>\n",
       "      <td>Bitcoin</td>\n",
       "      <td>$367,990,849,787</td>\n",
       "    </tr>\n",
       "    <tr>\n",
       "      <th>1</th>\n",
       "      <td>Ethereum</td>\n",
       "      <td>$159,984,368,270</td>\n",
       "    </tr>\n",
       "    <tr>\n",
       "      <th>2</th>\n",
       "      <td>Tether</td>\n",
       "      <td>$68,374,239,646</td>\n",
       "    </tr>\n",
       "    <tr>\n",
       "      <th>3</th>\n",
       "      <td>USD Coin</td>\n",
       "      <td>$46,060,977,592</td>\n",
       "    </tr>\n",
       "    <tr>\n",
       "      <th>4</th>\n",
       "      <td>BNB</td>\n",
       "      <td>$44,156,539,145</td>\n",
       "    </tr>\n",
       "    <tr>\n",
       "      <th>5</th>\n",
       "      <td>XRP</td>\n",
       "      <td>$25,849,392,338</td>\n",
       "    </tr>\n",
       "    <tr>\n",
       "      <th>6</th>\n",
       "      <td>Binance USD</td>\n",
       "      <td>$21,614,987,817</td>\n",
       "    </tr>\n",
       "    <tr>\n",
       "      <th>7</th>\n",
       "      <td>Cardano</td>\n",
       "      <td>$14,192,698,841</td>\n",
       "    </tr>\n",
       "    <tr>\n",
       "      <th>8</th>\n",
       "      <td>Solana</td>\n",
       "      <td>$11,620,521,084</td>\n",
       "    </tr>\n",
       "    <tr>\n",
       "      <th>9</th>\n",
       "      <td>Dogecoin</td>\n",
       "      <td>$8,013,357,970</td>\n",
       "    </tr>\n",
       "  </tbody>\n",
       "</table>\n",
       "</div>"
      ],
      "text/plain": [
       "          coin         marketcap\n",
       "0      Bitcoin  $367,990,849,787\n",
       "1     Ethereum  $159,984,368,270\n",
       "2       Tether   $68,374,239,646\n",
       "3     USD Coin   $46,060,977,592\n",
       "4          BNB   $44,156,539,145\n",
       "5          XRP   $25,849,392,338\n",
       "6  Binance USD   $21,614,987,817\n",
       "7      Cardano   $14,192,698,841\n",
       "8       Solana   $11,620,521,084\n",
       "9     Dogecoin    $8,013,357,970"
      ]
     },
     "execution_count": 35,
     "metadata": {},
     "output_type": "execute_result"
    }
   ],
   "source": [
    "cmc_data"
   ]
  }
 ],
 "metadata": {
  "kernelspec": {
   "display_name": "Python 3.9.12 ('base')",
   "language": "python",
   "name": "python3"
  },
  "language_info": {
   "codemirror_mode": {
    "name": "ipython",
    "version": 3
   },
   "file_extension": ".py",
   "mimetype": "text/x-python",
   "name": "python",
   "nbconvert_exporter": "python",
   "pygments_lexer": "ipython3",
   "version": "3.9.12"
  },
  "orig_nbformat": 4,
  "vscode": {
   "interpreter": {
    "hash": "40d3a090f54c6569ab1632332b64b2c03c39dcf918b08424e98f38b5ae0af88f"
   }
  }
 },
 "nbformat": 4,
 "nbformat_minor": 2
}
