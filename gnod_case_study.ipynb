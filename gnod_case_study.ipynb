{
 "cells": [
  {
   "cell_type": "markdown",
   "metadata": {},
   "source": [
    "# Gnod case study: Top 100 songs recommender"
   ]
  },
  {
   "cell_type": "code",
   "execution_count": 2,
   "metadata": {},
   "outputs": [],
   "source": [
    "from bs4 import BeautifulSoup\n",
    "import requests\n",
    "import numpy as np\n",
    "import pandas as pd\n",
    "import random\n",
    "from time import sleep\n",
    "import matplotlib.pyplot as plt"
   ]
  },
  {
   "cell_type": "markdown",
   "metadata": {},
   "source": [
    "## Lab 6.1: Scraping top 100 chart from popvortex.com and converting to dataframe"
   ]
  },
  {
   "cell_type": "code",
   "execution_count": 18,
   "metadata": {},
   "outputs": [],
   "source": [
    "url = \"https://www.popvortex.com/music/charts/top-100-songs.php\""
   ]
  },
  {
   "cell_type": "code",
   "execution_count": 19,
   "metadata": {},
   "outputs": [
    {
     "data": {
      "text/plain": [
       "200"
      ]
     },
     "execution_count": 19,
     "metadata": {},
     "output_type": "execute_result"
    }
   ],
   "source": [
    "response = requests.get(url)\n",
    "response.status_code"
   ]
  },
  {
   "cell_type": "code",
   "execution_count": 20,
   "metadata": {},
   "outputs": [],
   "source": [
    "soup = BeautifulSoup(response.content, \"html.parser\")"
   ]
  },
  {
   "cell_type": "code",
   "execution_count": null,
   "metadata": {},
   "outputs": [],
   "source": [
    "print(soup.prettify())"
   ]
  },
  {
   "cell_type": "code",
   "execution_count": null,
   "metadata": {},
   "outputs": [],
   "source": [
    "# Selector script that we want to parse\n",
    "\n",
    "#chart-position-1 > div.chart-content.col-xs-12.col-sm-8 > p > cite\n",
    "\n",
    "#chart-position-1 > div.chart-content.col-xs-12.col-sm-8 > ul > li:nth-child(1) > a"
   ]
  },
  {
   "cell_type": "code",
   "execution_count": null,
   "metadata": {},
   "outputs": [],
   "source": [
    "soup.select(\"cite.title\")\n",
    "soup.select('em.artist')\n",
    "soup.select('p.chart-position')"
   ]
  },
  {
   "cell_type": "code",
   "execution_count": null,
   "metadata": {},
   "outputs": [],
   "source": [
    "soup.select('cite.title')[0].get_text()"
   ]
  },
  {
   "cell_type": "code",
   "execution_count": null,
   "metadata": {},
   "outputs": [],
   "source": [
    "soup.select('em.artist')[0].get_text()\n"
   ]
  },
  {
   "cell_type": "code",
   "execution_count": null,
   "metadata": {},
   "outputs": [],
   "source": [
    "soup.select('p.chart-position')[0].get_text()"
   ]
  },
  {
   "cell_type": "code",
   "execution_count": null,
   "metadata": {},
   "outputs": [],
   "source": [
    "soup.select('#chart-position-1 > div.chart-content.col-xs-12.col-sm-8 > ul > li:nth-child(1) > a')[0].get_text()"
   ]
  },
  {
   "cell_type": "code",
   "execution_count": null,
   "metadata": {},
   "outputs": [],
   "source": [
    "soup.select('#div.chart-content.col-xs-12.col-sm-8 > ul')"
   ]
  },
  {
   "cell_type": "code",
   "execution_count": null,
   "metadata": {},
   "outputs": [],
   "source": [
    "# Working on getting the Genre from popvortex but its more difficult so sticking with the three for now.\n",
    "\n",
    "# genre = []\n",
    "\n",
    "# for g in soup.select(\"li\"):\n",
    "#     link = soup.get(\"href\")\n",
    "#     print(link)\n",
    "#     if link is not None:\n",
    "#         if ((\"/music\" not in link) & \n",
    "#             (\"/charts\" not in link)):\n",
    "#             genre.append(soup[\"href\"])"
   ]
  },
  {
   "cell_type": "code",
   "execution_count": 21,
   "metadata": {},
   "outputs": [],
   "source": [
    "#initialize empty lists\n",
    "title = []\n",
    "artist = []\n",
    "rank = []\n",
    "genre = []\n",
    "\n",
    "# Number of iterations\n",
    "num_iter = len(soup.select(\"cite.title\"))\n",
    "\n",
    "# Setting up what to iterate for each empty list\n",
    "t_list = soup.select(\"cite.title\")\n",
    "a_list = soup.select(\"em.artist\")\n",
    "chart_rank = soup.select('p.chart-position')\n",
    "gen = soup.select('#chart-position-1 > div.chart-content.col-xs-12.col-sm-8 > ul > li:nth-child(1) > a')\n",
    "\n",
    "# iterate through the result set and retrive all the data\n",
    "for i in range(num_iter):\n",
    "    title.append(t_list[i].get_text())\n",
    "    artist.append(a_list[i].get_text())\n",
    "    rank.append(chart_rank[i].get_text())\n",
    "    genre.append(gen[0])\n",
    "\n",
    "# Checking results\n",
    "# print(title)\n",
    "# print(artist)\n",
    "# print(rank)\n",
    "# print(genre)"
   ]
  },
  {
   "cell_type": "code",
   "execution_count": 22,
   "metadata": {},
   "outputs": [],
   "source": [
    "# Converting our lists into a dataframe\n",
    "\n",
    "top_100 = pd.DataFrame({\"rank\":rank,\n",
    "                        \"title\":title,\n",
    "                       \"artist\":artist,\n",
    "                       \"genre\":genre\n",
    "                      })"
   ]
  },
  {
   "cell_type": "code",
   "execution_count": null,
   "metadata": {},
   "outputs": [],
   "source": [
    "# We now see 100 rows with rank, title and artist information (note: not indexed to rank)\n",
    "\n",
    "# Note: We are still working on making the genre column correct...\n",
    "\n",
    "top_100"
   ]
  },
  {
   "cell_type": "code",
   "execution_count": null,
   "metadata": {},
   "outputs": [],
   "source": [
    "# Recommendations (for a random song) based on user input\n",
    "\n",
    "print('Welcome to Gnod song recommender!')\n",
    "print('Enter the name of your favorite song to recieve a recommendation:') \n",
    "\n",
    "str(input())\n",
    "\n",
    "rand_idx = random.randrange(len(top_100['title']))\n",
    "random_rec = title[rand_idx]\n",
    "\n",
    "print('Based on your input, we recommend: ' + random_rec)"
   ]
  },
  {
   "cell_type": "markdown",
   "metadata": {},
   "source": [
    "## Lab 6.2: Scraping multiple sheets"
   ]
  },
  {
   "cell_type": "code",
   "execution_count": 23,
   "metadata": {},
   "outputs": [],
   "source": [
    "url2 = \"https://www.popvortex.com/music/france/top-songs.php\""
   ]
  },
  {
   "cell_type": "code",
   "execution_count": 24,
   "metadata": {},
   "outputs": [],
   "source": [
    "response2 = requests.get(url2)\n",
    "\n",
    "soup2 = BeautifulSoup(response2.content, \"html.parser\")"
   ]
  },
  {
   "cell_type": "code",
   "execution_count": 25,
   "metadata": {},
   "outputs": [],
   "source": [
    "# Expanding the sample of songs\n",
    "\n",
    "#initialize empty lists\n",
    "title2 = []\n",
    "artist2 = []\n",
    "\n",
    "# Number of iterations\n",
    "num_iter2 = len(soup2.select(\"cite.title\"))\n",
    "\n",
    "# Setting up what to iterate for each empty list\n",
    "t_list2 = soup2.select(\"cite.title\")\n",
    "a_list2 = soup2.select(\"em.artist\")\n",
    "\n",
    "# iterate through the result set and retrive all the data\n",
    "for i in range(num_iter2):\n",
    "    title2.append(t_list2[i].get_text())\n",
    "    artist2.append(a_list2[i].get_text())"
   ]
  },
  {
   "cell_type": "code",
   "execution_count": 26,
   "metadata": {},
   "outputs": [],
   "source": [
    "top_100_france = pd.DataFrame({\"title\":title,\n",
    "                       \"artist\":artist,\n",
    "                      })"
   ]
  },
  {
   "cell_type": "code",
   "execution_count": 27,
   "metadata": {},
   "outputs": [],
   "source": [
    "songs = top_100.copy()"
   ]
  },
  {
   "cell_type": "code",
   "execution_count": 28,
   "metadata": {},
   "outputs": [],
   "source": [
    "songs = songs.drop(['rank', 'genre'], axis=1)"
   ]
  },
  {
   "cell_type": "code",
   "execution_count": 29,
   "metadata": {},
   "outputs": [
    {
     "data": {
      "text/html": [
       "<div>\n",
       "<style scoped>\n",
       "    .dataframe tbody tr th:only-of-type {\n",
       "        vertical-align: middle;\n",
       "    }\n",
       "\n",
       "    .dataframe tbody tr th {\n",
       "        vertical-align: top;\n",
       "    }\n",
       "\n",
       "    .dataframe thead th {\n",
       "        text-align: right;\n",
       "    }\n",
       "</style>\n",
       "<table border=\"1\" class=\"dataframe\">\n",
       "  <thead>\n",
       "    <tr style=\"text-align: right;\">\n",
       "      <th></th>\n",
       "      <th>title</th>\n",
       "      <th>artist</th>\n",
       "    </tr>\n",
       "  </thead>\n",
       "  <tbody>\n",
       "    <tr>\n",
       "      <th>0</th>\n",
       "      <td>Unholy</td>\n",
       "      <td>Sam Smith &amp; Kim Petras</td>\n",
       "    </tr>\n",
       "    <tr>\n",
       "      <th>1</th>\n",
       "      <td>Everywhere</td>\n",
       "      <td>Fleetwood Mac</td>\n",
       "    </tr>\n",
       "    <tr>\n",
       "      <th>2</th>\n",
       "      <td>EDGING</td>\n",
       "      <td>blink-182</td>\n",
       "    </tr>\n",
       "    <tr>\n",
       "      <th>3</th>\n",
       "      <td>Sheeple</td>\n",
       "      <td>Tom MacDonald</td>\n",
       "    </tr>\n",
       "    <tr>\n",
       "      <th>4</th>\n",
       "      <td>I'm Good (Blue)</td>\n",
       "      <td>David Guetta &amp; Bebe Rexha</td>\n",
       "    </tr>\n",
       "    <tr>\n",
       "      <th>...</th>\n",
       "      <td>...</td>\n",
       "      <td>...</td>\n",
       "    </tr>\n",
       "    <tr>\n",
       "      <th>195</th>\n",
       "      <td>No Se Va (En Vivo)</td>\n",
       "      <td>Grupo Frontera</td>\n",
       "    </tr>\n",
       "    <tr>\n",
       "      <th>196</th>\n",
       "      <td>What He Didn't Do</td>\n",
       "      <td>Carly Pearce</td>\n",
       "    </tr>\n",
       "    <tr>\n",
       "      <th>197</th>\n",
       "      <td>First Class</td>\n",
       "      <td>Jack Harlow</td>\n",
       "    </tr>\n",
       "    <tr>\n",
       "      <th>198</th>\n",
       "      <td>Y'all Life</td>\n",
       "      <td>Walker Hayes</td>\n",
       "    </tr>\n",
       "    <tr>\n",
       "      <th>199</th>\n",
       "      <td>Gotta Move On (Queens Remix)</td>\n",
       "      <td>Diddy, Bryson Tiller, Ashanti &amp; Yung Miami</td>\n",
       "    </tr>\n",
       "  </tbody>\n",
       "</table>\n",
       "<p>200 rows × 2 columns</p>\n",
       "</div>"
      ],
      "text/plain": [
       "                            title                                      artist\n",
       "0                          Unholy                      Sam Smith & Kim Petras\n",
       "1                      Everywhere                               Fleetwood Mac\n",
       "2                          EDGING                                   blink-182\n",
       "3                         Sheeple                               Tom MacDonald\n",
       "4                 I'm Good (Blue)                   David Guetta & Bebe Rexha\n",
       "..                            ...                                         ...\n",
       "195            No Se Va (En Vivo)                              Grupo Frontera\n",
       "196             What He Didn't Do                                Carly Pearce\n",
       "197                   First Class                                 Jack Harlow\n",
       "198                    Y'all Life                                Walker Hayes\n",
       "199  Gotta Move On (Queens Remix)  Diddy, Bryson Tiller, Ashanti & Yung Miami\n",
       "\n",
       "[200 rows x 2 columns]"
      ]
     },
     "execution_count": 29,
     "metadata": {},
     "output_type": "execute_result"
    }
   ],
   "source": [
    "# Concatenating the top 100 list from the US with that of France\n",
    "\n",
    "songs_list = pd.concat([songs, top_100_france], axis=0).reset_index(drop=True)\n",
    "\n",
    "songs_list"
   ]
  },
  {
   "cell_type": "code",
   "execution_count": 30,
   "metadata": {},
   "outputs": [
    {
     "data": {
      "text/html": [
       "<div>\n",
       "<style scoped>\n",
       "    .dataframe tbody tr th:only-of-type {\n",
       "        vertical-align: middle;\n",
       "    }\n",
       "\n",
       "    .dataframe tbody tr th {\n",
       "        vertical-align: top;\n",
       "    }\n",
       "\n",
       "    .dataframe thead th {\n",
       "        text-align: right;\n",
       "    }\n",
       "</style>\n",
       "<table border=\"1\" class=\"dataframe\">\n",
       "  <thead>\n",
       "    <tr style=\"text-align: right;\">\n",
       "      <th></th>\n",
       "      <th>title</th>\n",
       "      <th>artist</th>\n",
       "    </tr>\n",
       "  </thead>\n",
       "  <tbody>\n",
       "    <tr>\n",
       "      <th>0</th>\n",
       "      <td>Unholy</td>\n",
       "      <td>Sam Smith &amp; Kim Petras</td>\n",
       "    </tr>\n",
       "    <tr>\n",
       "      <th>1</th>\n",
       "      <td>Everywhere</td>\n",
       "      <td>Fleetwood Mac</td>\n",
       "    </tr>\n",
       "    <tr>\n",
       "      <th>2</th>\n",
       "      <td>EDGING</td>\n",
       "      <td>blink-182</td>\n",
       "    </tr>\n",
       "    <tr>\n",
       "      <th>3</th>\n",
       "      <td>Sheeple</td>\n",
       "      <td>Tom MacDonald</td>\n",
       "    </tr>\n",
       "    <tr>\n",
       "      <th>4</th>\n",
       "      <td>I'm Good (Blue)</td>\n",
       "      <td>David Guetta &amp; Bebe Rexha</td>\n",
       "    </tr>\n",
       "    <tr>\n",
       "      <th>...</th>\n",
       "      <td>...</td>\n",
       "      <td>...</td>\n",
       "    </tr>\n",
       "    <tr>\n",
       "      <th>95</th>\n",
       "      <td>No Se Va (En Vivo)</td>\n",
       "      <td>Grupo Frontera</td>\n",
       "    </tr>\n",
       "    <tr>\n",
       "      <th>96</th>\n",
       "      <td>What He Didn't Do</td>\n",
       "      <td>Carly Pearce</td>\n",
       "    </tr>\n",
       "    <tr>\n",
       "      <th>97</th>\n",
       "      <td>First Class</td>\n",
       "      <td>Jack Harlow</td>\n",
       "    </tr>\n",
       "    <tr>\n",
       "      <th>98</th>\n",
       "      <td>Y'all Life</td>\n",
       "      <td>Walker Hayes</td>\n",
       "    </tr>\n",
       "    <tr>\n",
       "      <th>99</th>\n",
       "      <td>Gotta Move On (Queens Remix)</td>\n",
       "      <td>Diddy, Bryson Tiller, Ashanti &amp; Yung Miami</td>\n",
       "    </tr>\n",
       "  </tbody>\n",
       "</table>\n",
       "<p>97 rows × 2 columns</p>\n",
       "</div>"
      ],
      "text/plain": [
       "                           title                                      artist\n",
       "0                         Unholy                      Sam Smith & Kim Petras\n",
       "1                     Everywhere                               Fleetwood Mac\n",
       "2                         EDGING                                   blink-182\n",
       "3                        Sheeple                               Tom MacDonald\n",
       "4                I'm Good (Blue)                   David Guetta & Bebe Rexha\n",
       "..                           ...                                         ...\n",
       "95            No Se Va (En Vivo)                              Grupo Frontera\n",
       "96             What He Didn't Do                                Carly Pearce\n",
       "97                   First Class                                 Jack Harlow\n",
       "98                    Y'all Life                                Walker Hayes\n",
       "99  Gotta Move On (Queens Remix)  Diddy, Bryson Tiller, Ashanti & Yung Miami\n",
       "\n",
       "[97 rows x 2 columns]"
      ]
     },
     "execution_count": 30,
     "metadata": {},
     "output_type": "execute_result"
    }
   ],
   "source": [
    "# Removing duplicates (looks like 17 rows removed)\n",
    "\n",
    "songs_list.drop_duplicates()"
   ]
  },
  {
   "cell_type": "markdown",
   "metadata": {},
   "source": [
    "## Same operation as above, but using a function"
   ]
  },
  {
   "cell_type": "code",
   "execution_count": null,
   "metadata": {},
   "outputs": [],
   "source": [
    "def scraper(url):\n",
    "\n",
    "    response3 = requests.get(url)\n",
    "    soup3 = BeautifulSoup(response3.content, \"html.parser\")\n",
    "\n",
    "    titles = []\n",
    "    artists = []\n",
    "\n",
    "    num_iters = len(soup3.select(\"cite.title\"))\n",
    "\n",
    "    t_lists = soup3.select(\"cite.title\")\n",
    "    a_lists = soup3.select(\"em.artist\")\n",
    "\n",
    "    for i in range(num_iters):\n",
    "        titles.append(t_lists[i].get_text())\n",
    "        artists.append(a_lists[i].get_text())\n",
    "    \n",
    "    test = pd.DataFrame({\"title\":titles,\n",
    "                       \"artist\":artists})\n",
    "    return test"
   ]
  },
  {
   "cell_type": "code",
   "execution_count": null,
   "metadata": {},
   "outputs": [],
   "source": [
    "urls1 = 'https://www.popvortex.com/music/france/top-songs.php'\n",
    "urls2 = 'https://www.popvortex.com/music/charts/top-100-songs.php'\n",
    "\n",
    "france_100 = scraper(urls1)\n",
    "us_100 = scraper(urls2)"
   ]
  },
  {
   "cell_type": "code",
   "execution_count": null,
   "metadata": {},
   "outputs": [],
   "source": [
    "# We now have a song list of 200 songs. And we can repeat for other song lists from the website\n",
    "\n",
    "songs_list = pd.concat([france_100, us_100], axis=0).reset_index(drop=True)\n",
    "\n",
    "songs_list"
   ]
  },
  {
   "cell_type": "code",
   "execution_count": null,
   "metadata": {},
   "outputs": [],
   "source": [
    "songs_list.drop_duplicates()"
   ]
  },
  {
   "cell_type": "code",
   "execution_count": null,
   "metadata": {},
   "outputs": [],
   "source": [
    "# Prepping our list of song titles so it can work in the below if / else statement:\n",
    "\n",
    "my_list = songs_list['title']\n",
    "\n",
    "my_list_lower = list(pd.Series(my_list).str.lower()) # convert to lower so the capitalizations don't mess up the string match\n",
    "\n",
    "my_list_lower"
   ]
  },
  {
   "cell_type": "code",
   "execution_count": 540,
   "metadata": {},
   "outputs": [
    {
     "name": "stdout",
     "output_type": "stream",
     "text": [
      "Welcome to Gnod song recommender!\n",
      "\n",
      "Enter the name of your favorite song to recieve a recommendation:\n",
      "\n",
      "Based on your input, we recommend: despechá\n"
     ]
    }
   ],
   "source": [
    "# UPDATE: Song recommender that parses our existing song list to match user input\n",
    "\n",
    "print('Welcome to Gnod song recommender!\\n')\n",
    "sleep(1.5)\n",
    "print('Enter the name of your favorite song to recieve a recommendation:\\n') \n",
    "\n",
    "user_input = str(input()).lower() # So that the capitalizations don't mess up the string match\n",
    "\n",
    "random_rec = np.random.choice(my_list_lower)\n",
    "\n",
    "if user_input in my_list_lower:\n",
    "    print('Based on your input, we recommend: ' + random_rec)\n",
    "else:\n",
    "    print('Sorry. We cannot make a recommendation :(')"
   ]
  },
  {
   "cell_type": "markdown",
   "metadata": {},
   "source": [
    "## Using Spotify API to improve the recommendation tool"
   ]
  },
  {
   "cell_type": "code",
   "execution_count": null,
   "metadata": {},
   "outputs": [],
   "source": [
    "# Using SpotiPy to navigate the Spotify APIs\n",
    "# Start with credential authorization"
   ]
  },
  {
   "cell_type": "code",
   "execution_count": 33,
   "metadata": {},
   "outputs": [],
   "source": [
    "# !pip install spotipy\n",
    "import spotipy\n",
    "from spotipy.oauth2 import SpotifyClientCredentials"
   ]
  },
  {
   "cell_type": "code",
   "execution_count": null,
   "metadata": {},
   "outputs": [],
   "source": [
    "spotify_key = open(\"spotify_key.txt\",\"r\")\n",
    "string = spotify_key.read()\n",
    "string\n",
    "string.split('\\n')"
   ]
  },
  {
   "cell_type": "code",
   "execution_count": 37,
   "metadata": {},
   "outputs": [],
   "source": [
    "spotify_key_dict={}\n",
    "for line in string.split('\\n'):\n",
    "    if len(line) > 0:\n",
    "        spotify_key_dict[line.split(':')[0]]=line.split(':')[1]"
   ]
  },
  {
   "cell_type": "code",
   "execution_count": null,
   "metadata": {},
   "outputs": [],
   "source": [
    "spotify_key_dict"
   ]
  },
  {
   "cell_type": "code",
   "execution_count": 38,
   "metadata": {},
   "outputs": [],
   "source": [
    "sp = spotipy.Spotify(auth_manager=SpotifyClientCredentials(client_id=spotify_key_dict['cid'],\n",
    "                                                           client_secret=spotify_key_dict['csecret']))"
   ]
  },
  {
   "cell_type": "code",
   "execution_count": null,
   "metadata": {},
   "outputs": [],
   "source": [
    "# Query for the tracks data in the largest spotify playlist (10k songs)"
   ]
  },
  {
   "cell_type": "code",
   "execution_count": 135,
   "metadata": {},
   "outputs": [],
   "source": [
    "playlist = sp.user_playlist_tracks(\"spotify\", \"5S8SJdl1BDc0ugpkEvFsIL\") "
   ]
  },
  {
   "cell_type": "code",
   "execution_count": 136,
   "metadata": {},
   "outputs": [
    {
     "data": {
      "text/plain": [
       "10000"
      ]
     },
     "execution_count": 136,
     "metadata": {},
     "output_type": "execute_result"
    }
   ],
   "source": [
    "playlist[\"total\"] "
   ]
  },
  {
   "cell_type": "code",
   "execution_count": 137,
   "metadata": {},
   "outputs": [
    {
     "data": {
      "text/plain": [
       "100"
      ]
     },
     "execution_count": 137,
     "metadata": {},
     "output_type": "execute_result"
    }
   ],
   "source": [
    "len(playlist[\"items\"])"
   ]
  },
  {
   "cell_type": "code",
   "execution_count": 97,
   "metadata": {},
   "outputs": [],
   "source": [
    "# from random import randint\n",
    "# from time import sleep\n",
    "\n",
    "# def get_playlist_tracks(playlist_id):\n",
    "#     results = sp.user_playlist_tracks(\"spotify\",playlist_id)\n",
    "#     tracks = results['items']\n",
    "#     while results['next']!=None:\n",
    "#         results = sp.next(results)\n",
    "#         tracks = tracks + results['items']\n",
    "#         sleep(randint(1))\n",
    "#     return tracks"
   ]
  },
  {
   "cell_type": "code",
   "execution_count": 98,
   "metadata": {},
   "outputs": [
    {
     "data": {
      "text/plain": [
       "10000"
      ]
     },
     "execution_count": 98,
     "metadata": {},
     "output_type": "execute_result"
    }
   ],
   "source": [
    "all_tracks = get_playlist_tracks(\"5S8SJdl1BDc0ugpkEvFsIL\")\n",
    "len(all_tracks)"
   ]
  },
  {
   "cell_type": "code",
   "execution_count": null,
   "metadata": {},
   "outputs": [],
   "source": [
    "all_tracks"
   ]
  },
  {
   "cell_type": "code",
   "execution_count": 309,
   "metadata": {},
   "outputs": [],
   "source": [
    "# Making a checkpoint so we don't have to run the code for all_tracks again...\n",
    "\n",
    "all_tracks_csv = pd.DataFrame(all_tracks)\n",
    "\n",
    "all_tracks_csv.to_csv('all_tracks.csv', index=False)"
   ]
  },
  {
   "cell_type": "code",
   "execution_count": 139,
   "metadata": {},
   "outputs": [],
   "source": [
    "# Functions from our lecture today in case we need them later (we didn't)...\n",
    "\n",
    "def flatten(input_list):\n",
    "    return [item for sublist in input_list for item in sublist]\n",
    "\n",
    "def get_name_artists_from_track(track):\n",
    "    return [(track[\"name\"], artist[\"name\"]) for artist in track[\"artists\"]]\n",
    "\n",
    "def get_name_artists_from_list(tracks):\n",
    "    return flatten(list(map(get_name_artists_from_track, tracks['items'])))\n",
    "\n",
    "def get_name_artist_from_playlist_item(playlist_item):\n",
    "    return get_name_artists_from_track(playlist_item['track'])\n",
    "\n",
    "def get_name_artists_from_playlist(input_playlist):\n",
    "    return flatten(list(map(get_name_artist_from_playlist_item,input_playlist[\"items\"])))"
   ]
  },
  {
   "cell_type": "code",
   "execution_count": 218,
   "metadata": {},
   "outputs": [
    {
     "data": {
      "text/plain": [
       "dict_keys(['album', 'artists', 'available_markets', 'disc_number', 'duration_ms', 'episode', 'explicit', 'external_ids', 'external_urls', 'href', 'id', 'is_local', 'name', 'popularity', 'preview_url', 'track', 'track_number', 'type', 'uri'])"
      ]
     },
     "execution_count": 218,
     "metadata": {},
     "output_type": "execute_result"
    }
   ],
   "source": [
    "# Looking at how to navigate this beast\n",
    "\n",
    "all_tracks[0]['track'].keys()"
   ]
  },
  {
   "cell_type": "code",
   "execution_count": 305,
   "metadata": {},
   "outputs": [
    {
     "data": {
      "text/plain": [
       "'Life Changes'"
      ]
     },
     "execution_count": 305,
     "metadata": {},
     "output_type": "execute_result"
    }
   ],
   "source": [
    "# Query for track names\n",
    "\n",
    "all_tracks[1]['track']['name']"
   ]
  },
  {
   "cell_type": "code",
   "execution_count": 196,
   "metadata": {},
   "outputs": [
    {
     "data": {
      "text/plain": [
       "['spotify', 'track', '4Vxu50qVrQcycjRyJQaZLC']"
      ]
     },
     "execution_count": 196,
     "metadata": {},
     "output_type": "execute_result"
    }
   ],
   "source": [
    "# Query for uri code names\n",
    "\n",
    "all_tracks[1]['track']['uri'].split(':')"
   ]
  },
  {
   "cell_type": "code",
   "execution_count": 395,
   "metadata": {},
   "outputs": [],
   "source": [
    "# For loops to filter out artist names, uri, track and other tags of interest for the tool\n",
    "\n",
    "artists = []\n",
    "feature = []\n",
    "feature_2 = []\n",
    "\n",
    "for a in range(len(all_tracks)): \n",
    "    insert = all_tracks[a]['track']['artists'][0]['name'] \n",
    "    artists.append(insert)\n",
    "    if len(all_tracks[a]['track']['artists']) > 1:\n",
    "        feature.append(all_tracks[a]['track']['artists'][1]['name'])\n",
    "    if len(all_tracks[a]['track']['artists']) > 2:\n",
    "        feature_2.append(all_tracks[a]['track']['artists'][2]['name'])"
   ]
  },
  {
   "cell_type": "code",
   "execution_count": null,
   "metadata": {},
   "outputs": [],
   "source": [
    "# Getting audio features out"
   ]
  },
  {
   "cell_type": "code",
   "execution_count": 197,
   "metadata": {},
   "outputs": [],
   "source": [
    "uri = []\n",
    "\n",
    "for a in range(len(all_tracks)):\n",
    "    insert = all_tracks[a]['track']['uri'] \n",
    "    uri.append(insert)"
   ]
  },
  {
   "cell_type": "code",
   "execution_count": 394,
   "metadata": {},
   "outputs": [],
   "source": [
    "track = []\n",
    "\n",
    "for a in range(len(all_tracks)):\n",
    "    adding = all_tracks[a]['track']['name']\n",
    "    track.append(adding)"
   ]
  },
  {
   "cell_type": "code",
   "execution_count": null,
   "metadata": {},
   "outputs": [],
   "source": [
    "# for i in range(len(uri)):\n",
    "#     squish_uri = sp.audio_features(uri[i])"
   ]
  },
  {
   "cell_type": "code",
   "execution_count": 365,
   "metadata": {},
   "outputs": [],
   "source": [
    "def features(tracks):\n",
    "    \n",
    "    song_features = {}\n",
    "    \n",
    "    for i in range(len(uri)):\n",
    "        song_features[tracks[i]['track']['id']] = sp.audio_features(tracks[i][\"track\"][\"uri\"])\n",
    "    \n",
    "    return song_features"
   ]
  },
  {
   "cell_type": "code",
   "execution_count": null,
   "metadata": {},
   "outputs": [],
   "source": [
    "uri_full = features(all_tracks)"
   ]
  },
  {
   "cell_type": "code",
   "execution_count": 427,
   "metadata": {},
   "outputs": [],
   "source": [
    "def flatten_dict(data, col_list):\n",
    "    for column in col_list:\n",
    "        flattened = pd.DataFrame(dict(data[column])).transpose()\n",
    "        columns = [str(col) for col in flattened.columns]\n",
    "        flattened.columns = [column + '_' + colname for colname in columns]\n",
    "        data = pd.concat([data, flattened], axis=1)\n",
    "        data = data.drop(column, axis=1)\n",
    "    return data"
   ]
  },
  {
   "cell_type": "code",
   "execution_count": 256,
   "metadata": {},
   "outputs": [],
   "source": [
    "cols = ['danceability',\n",
    " 'energy',\n",
    " 'key',\n",
    " 'loudness',\n",
    " 'mode',\n",
    " 'speechiness',\n",
    " 'acousticness',\n",
    " 'instrumentalness',\n",
    " 'liveness',\n",
    " 'valence',\n",
    " 'tempo',\n",
    " 'type',\n",
    " 'id',\n",
    " 'uri',\n",
    " 'track_href',\n",
    " 'analysis_url',\n",
    " 'duration_ms',\n",
    " 'time_signature']"
   ]
  },
  {
   "cell_type": "code",
   "execution_count": null,
   "metadata": {},
   "outputs": [],
   "source": [
    "dict(uri_full)\n",
    "pd.DataFrame(dict(uri_full))\n",
    "uri_full = pd.DataFrame(dict(uri_full)).transpose()\n",
    "\n",
    "uri_full"
   ]
  },
  {
   "cell_type": "code",
   "execution_count": null,
   "metadata": {},
   "outputs": [],
   "source": [
    "uri_full.rename(columns = {0:'audio_features'}, inplace = True)\n",
    "\n",
    "uri_full = uri_full.reset_index(drop=True)\n",
    "\n",
    "uri_full"
   ]
  },
  {
   "cell_type": "code",
   "execution_count": 430,
   "metadata": {},
   "outputs": [],
   "source": [
    "uri_df_final = flatten_dict(uri_full, ['audio_features'])"
   ]
  },
  {
   "cell_type": "code",
   "execution_count": null,
   "metadata": {},
   "outputs": [],
   "source": [
    "uri_df_final"
   ]
  },
  {
   "cell_type": "code",
   "execution_count": 432,
   "metadata": {},
   "outputs": [
    {
     "data": {
      "text/plain": [
       "audio_features_type\n",
       "audio_features    9944\n",
       "dtype: int64"
      ]
     },
     "execution_count": 432,
     "metadata": {},
     "output_type": "execute_result"
    }
   ],
   "source": [
    "# Looking at what columns we can drop from the dataset\n",
    "\n",
    "uri_df_final.value_counts('audio_features_type')"
   ]
  },
  {
   "cell_type": "code",
   "execution_count": 433,
   "metadata": {},
   "outputs": [],
   "source": [
    "# Dropping five columns we don't need from our audio_features\n",
    "\n",
    "uri_df_final = uri_df_final.drop(['audio_features_type', 'audio_features_id',\t'audio_features_uri',\t\n",
    "'audio_features_track_href', 'audio_features_analysis_url'], axis=1)"
   ]
  },
  {
   "cell_type": "code",
   "execution_count": 416,
   "metadata": {},
   "outputs": [],
   "source": [
    "for_concat = pd.DataFrame({\"artist\":artists,\n",
    "                          \"track\":track\n",
    "                        })"
   ]
  },
  {
   "cell_type": "code",
   "execution_count": 434,
   "metadata": {},
   "outputs": [],
   "source": [
    "uri_df_final.reset_index(drop=True, inplace=True)\n",
    "for_concat.reset_index(drop=True, inplace=True)"
   ]
  },
  {
   "cell_type": "code",
   "execution_count": 435,
   "metadata": {},
   "outputs": [],
   "source": [
    "gnod_songs = pd.concat([for_concat, uri_df_final], axis=1)"
   ]
  },
  {
   "cell_type": "code",
   "execution_count": null,
   "metadata": {},
   "outputs": [],
   "source": [
    "gnod_songs"
   ]
  },
  {
   "cell_type": "code",
   "execution_count": 437,
   "metadata": {},
   "outputs": [
    {
     "data": {
      "text/plain": [
       "artist                              0\n",
       "track                               0\n",
       "audio_features_danceability        56\n",
       "audio_features_energy              56\n",
       "audio_features_key                 56\n",
       "audio_features_loudness            56\n",
       "audio_features_mode                56\n",
       "audio_features_speechiness         56\n",
       "audio_features_acousticness        56\n",
       "audio_features_instrumentalness    56\n",
       "audio_features_liveness            56\n",
       "audio_features_valence             56\n",
       "audio_features_tempo               56\n",
       "audio_features_duration_ms         56\n",
       "audio_features_time_signature      56\n",
       "dtype: int64"
      ]
     },
     "execution_count": 437,
     "metadata": {},
     "output_type": "execute_result"
    }
   ],
   "source": [
    "gnod_songs.isna().sum()"
   ]
  },
  {
   "cell_type": "code",
   "execution_count": null,
   "metadata": {},
   "outputs": [],
   "source": [
    "# We thought about appending the feature artists to the df but it would not work in our clustering unless feature: y/n\n",
    "\n",
    "# gnod_songs = gnod_songs.append(pd.DataFrame(feature, columns=['feature_artist']), ignore_index=True)"
   ]
  },
  {
   "cell_type": "code",
   "execution_count": 423,
   "metadata": {},
   "outputs": [
    {
     "data": {
      "text/plain": [
       "feature_artist\n",
       "Justin Bieber                15\n",
       "London Symphony Orchestra    13\n",
       "Drake                        12\n",
       "Nicki Minaj                  11\n",
       "Rihanna                      10\n",
       "                             ..\n",
       "Jaren Johnston                1\n",
       "Jasmine Ash                   1\n",
       "Jason Aldean                  1\n",
       "Jason Walker                  1\n",
       "Lazz                          1\n",
       "Length: 1044, dtype: int64"
      ]
     },
     "execution_count": 423,
     "metadata": {},
     "output_type": "execute_result"
    }
   ],
   "source": [
    "# gnod_songs.value_counts('feature_artist') - 1/10 of songs have a feature artist"
   ]
  },
  {
   "cell_type": "code",
   "execution_count": 438,
   "metadata": {},
   "outputs": [],
   "source": [
    "# Dropping null values - only 56 where audio features were missing...\n",
    "\n",
    "gnod_songs = gnod_songs.dropna()"
   ]
  },
  {
   "cell_type": "code",
   "execution_count": 439,
   "metadata": {},
   "outputs": [
    {
     "data": {
      "text/plain": [
       "artist                             0\n",
       "track                              0\n",
       "audio_features_danceability        0\n",
       "audio_features_energy              0\n",
       "audio_features_key                 0\n",
       "audio_features_loudness            0\n",
       "audio_features_mode                0\n",
       "audio_features_speechiness         0\n",
       "audio_features_acousticness        0\n",
       "audio_features_instrumentalness    0\n",
       "audio_features_liveness            0\n",
       "audio_features_valence             0\n",
       "audio_features_tempo               0\n",
       "audio_features_duration_ms         0\n",
       "audio_features_time_signature      0\n",
       "dtype: int64"
      ]
     },
     "execution_count": 439,
     "metadata": {},
     "output_type": "execute_result"
    }
   ],
   "source": [
    "# Confirming there are no null values left\n",
    "\n",
    "gnod_songs.isna().sum()"
   ]
  },
  {
   "cell_type": "code",
   "execution_count": null,
   "metadata": {},
   "outputs": [],
   "source": [
    "gnod_songs"
   ]
  },
  {
   "cell_type": "code",
   "execution_count": 441,
   "metadata": {},
   "outputs": [],
   "source": [
    "# final dataframe to csv checkpoint\n",
    "\n",
    "gnod_songs.to_csv('gnod_songs.csv', index=False)"
   ]
  },
  {
   "cell_type": "markdown",
   "metadata": {},
   "source": [
    "## Clustering (using k-means)"
   ]
  },
  {
   "cell_type": "code",
   "execution_count": 1,
   "metadata": {},
   "outputs": [],
   "source": [
    "# K-means clustering on our dataframe\n",
    "\n",
    "from sklearn import cluster\n",
    "from sklearn.cluster import KMeans\n",
    "from sklearn.preprocessing import StandardScaler\n",
    "from sklearn.metrics import silhouette_score"
   ]
  },
  {
   "cell_type": "code",
   "execution_count": 4,
   "metadata": {},
   "outputs": [],
   "source": [
    "gnod_songs = pd.read_csv('gnod_songs.csv')"
   ]
  },
  {
   "cell_type": "code",
   "execution_count": 5,
   "metadata": {},
   "outputs": [],
   "source": [
    "X_songs = gnod_songs.drop(['artist', 'track'], axis=1)"
   ]
  },
  {
   "cell_type": "code",
   "execution_count": 6,
   "metadata": {},
   "outputs": [
    {
     "data": {
      "text/html": [
       "<div>\n",
       "<style scoped>\n",
       "    .dataframe tbody tr th:only-of-type {\n",
       "        vertical-align: middle;\n",
       "    }\n",
       "\n",
       "    .dataframe tbody tr th {\n",
       "        vertical-align: top;\n",
       "    }\n",
       "\n",
       "    .dataframe thead th {\n",
       "        text-align: right;\n",
       "    }\n",
       "</style>\n",
       "<table border=\"1\" class=\"dataframe\">\n",
       "  <thead>\n",
       "    <tr style=\"text-align: right;\">\n",
       "      <th></th>\n",
       "      <th>audio_features_danceability</th>\n",
       "      <th>audio_features_energy</th>\n",
       "      <th>audio_features_key</th>\n",
       "      <th>audio_features_loudness</th>\n",
       "      <th>audio_features_mode</th>\n",
       "      <th>audio_features_speechiness</th>\n",
       "      <th>audio_features_acousticness</th>\n",
       "      <th>audio_features_instrumentalness</th>\n",
       "      <th>audio_features_liveness</th>\n",
       "      <th>audio_features_valence</th>\n",
       "      <th>audio_features_tempo</th>\n",
       "      <th>audio_features_duration_ms</th>\n",
       "      <th>audio_features_time_signature</th>\n",
       "    </tr>\n",
       "  </thead>\n",
       "  <tbody>\n",
       "    <tr>\n",
       "      <th>0</th>\n",
       "      <td>0.283739</td>\n",
       "      <td>0.565427</td>\n",
       "      <td>-0.899671</td>\n",
       "      <td>0.279158</td>\n",
       "      <td>0.727259</td>\n",
       "      <td>0.877677</td>\n",
       "      <td>-0.592032</td>\n",
       "      <td>-0.403138</td>\n",
       "      <td>-0.195119</td>\n",
       "      <td>-0.080821</td>\n",
       "      <td>1.401571</td>\n",
       "      <td>-0.203087</td>\n",
       "      <td>0.185143</td>\n",
       "    </tr>\n",
       "    <tr>\n",
       "      <th>1</th>\n",
       "      <td>0.717151</td>\n",
       "      <td>0.858514</td>\n",
       "      <td>0.494577</td>\n",
       "      <td>0.748519</td>\n",
       "      <td>0.727259</td>\n",
       "      <td>-0.159008</td>\n",
       "      <td>-0.476902</td>\n",
       "      <td>-0.403138</td>\n",
       "      <td>-0.908790</td>\n",
       "      <td>1.348875</td>\n",
       "      <td>-1.152776</td>\n",
       "      <td>-0.251831</td>\n",
       "      <td>0.185143</td>\n",
       "    </tr>\n",
       "    <tr>\n",
       "      <th>2</th>\n",
       "      <td>1.505719</td>\n",
       "      <td>0.672004</td>\n",
       "      <td>-1.178521</td>\n",
       "      <td>0.768338</td>\n",
       "      <td>0.727259</td>\n",
       "      <td>0.136997</td>\n",
       "      <td>-0.703725</td>\n",
       "      <td>-0.403138</td>\n",
       "      <td>-0.208118</td>\n",
       "      <td>0.638043</td>\n",
       "      <td>-0.479045</td>\n",
       "      <td>-0.154848</td>\n",
       "      <td>0.185143</td>\n",
       "    </tr>\n",
       "    <tr>\n",
       "      <th>3</th>\n",
       "      <td>0.337916</td>\n",
       "      <td>0.996175</td>\n",
       "      <td>1.052276</td>\n",
       "      <td>0.972839</td>\n",
       "      <td>0.727259</td>\n",
       "      <td>0.408892</td>\n",
       "      <td>-0.567975</td>\n",
       "      <td>-0.403138</td>\n",
       "      <td>0.922837</td>\n",
       "      <td>1.236427</td>\n",
       "      <td>-0.728245</td>\n",
       "      <td>-0.304451</td>\n",
       "      <td>0.185143</td>\n",
       "    </tr>\n",
       "    <tr>\n",
       "      <th>4</th>\n",
       "      <td>0.277720</td>\n",
       "      <td>-1.210854</td>\n",
       "      <td>-0.341972</td>\n",
       "      <td>-0.627583</td>\n",
       "      <td>0.727259</td>\n",
       "      <td>-0.292946</td>\n",
       "      <td>1.265507</td>\n",
       "      <td>-0.401253</td>\n",
       "      <td>-0.561704</td>\n",
       "      <td>-1.092854</td>\n",
       "      <td>-0.442908</td>\n",
       "      <td>-0.065330</td>\n",
       "      <td>0.185143</td>\n",
       "    </tr>\n",
       "  </tbody>\n",
       "</table>\n",
       "</div>"
      ],
      "text/plain": [
       "   audio_features_danceability  audio_features_energy  audio_features_key  \\\n",
       "0                     0.283739               0.565427           -0.899671   \n",
       "1                     0.717151               0.858514            0.494577   \n",
       "2                     1.505719               0.672004           -1.178521   \n",
       "3                     0.337916               0.996175            1.052276   \n",
       "4                     0.277720              -1.210854           -0.341972   \n",
       "\n",
       "   audio_features_loudness  audio_features_mode  audio_features_speechiness  \\\n",
       "0                 0.279158             0.727259                    0.877677   \n",
       "1                 0.748519             0.727259                   -0.159008   \n",
       "2                 0.768338             0.727259                    0.136997   \n",
       "3                 0.972839             0.727259                    0.408892   \n",
       "4                -0.627583             0.727259                   -0.292946   \n",
       "\n",
       "   audio_features_acousticness  audio_features_instrumentalness  \\\n",
       "0                    -0.592032                        -0.403138   \n",
       "1                    -0.476902                        -0.403138   \n",
       "2                    -0.703725                        -0.403138   \n",
       "3                    -0.567975                        -0.403138   \n",
       "4                     1.265507                        -0.401253   \n",
       "\n",
       "   audio_features_liveness  audio_features_valence  audio_features_tempo  \\\n",
       "0                -0.195119               -0.080821              1.401571   \n",
       "1                -0.908790                1.348875             -1.152776   \n",
       "2                -0.208118                0.638043             -0.479045   \n",
       "3                 0.922837                1.236427             -0.728245   \n",
       "4                -0.561704               -1.092854             -0.442908   \n",
       "\n",
       "   audio_features_duration_ms  audio_features_time_signature  \n",
       "0                   -0.203087                       0.185143  \n",
       "1                   -0.251831                       0.185143  \n",
       "2                   -0.154848                       0.185143  \n",
       "3                   -0.304451                       0.185143  \n",
       "4                   -0.065330                       0.185143  "
      ]
     },
     "execution_count": 6,
     "metadata": {},
     "output_type": "execute_result"
    }
   ],
   "source": [
    "X_prep = StandardScaler().fit_transform(X_songs)\n",
    "pd.DataFrame(X_prep,columns=X_songs.columns).head()"
   ]
  },
  {
   "cell_type": "code",
   "execution_count": 7,
   "metadata": {},
   "outputs": [
    {
     "data": {
      "text/html": [
       "<style>#sk-container-id-1 {color: black;background-color: white;}#sk-container-id-1 pre{padding: 0;}#sk-container-id-1 div.sk-toggleable {background-color: white;}#sk-container-id-1 label.sk-toggleable__label {cursor: pointer;display: block;width: 100%;margin-bottom: 0;padding: 0.3em;box-sizing: border-box;text-align: center;}#sk-container-id-1 label.sk-toggleable__label-arrow:before {content: \"▸\";float: left;margin-right: 0.25em;color: #696969;}#sk-container-id-1 label.sk-toggleable__label-arrow:hover:before {color: black;}#sk-container-id-1 div.sk-estimator:hover label.sk-toggleable__label-arrow:before {color: black;}#sk-container-id-1 div.sk-toggleable__content {max-height: 0;max-width: 0;overflow: hidden;text-align: left;background-color: #f0f8ff;}#sk-container-id-1 div.sk-toggleable__content pre {margin: 0.2em;color: black;border-radius: 0.25em;background-color: #f0f8ff;}#sk-container-id-1 input.sk-toggleable__control:checked~div.sk-toggleable__content {max-height: 200px;max-width: 100%;overflow: auto;}#sk-container-id-1 input.sk-toggleable__control:checked~label.sk-toggleable__label-arrow:before {content: \"▾\";}#sk-container-id-1 div.sk-estimator input.sk-toggleable__control:checked~label.sk-toggleable__label {background-color: #d4ebff;}#sk-container-id-1 div.sk-label input.sk-toggleable__control:checked~label.sk-toggleable__label {background-color: #d4ebff;}#sk-container-id-1 input.sk-hidden--visually {border: 0;clip: rect(1px 1px 1px 1px);clip: rect(1px, 1px, 1px, 1px);height: 1px;margin: -1px;overflow: hidden;padding: 0;position: absolute;width: 1px;}#sk-container-id-1 div.sk-estimator {font-family: monospace;background-color: #f0f8ff;border: 1px dotted black;border-radius: 0.25em;box-sizing: border-box;margin-bottom: 0.5em;}#sk-container-id-1 div.sk-estimator:hover {background-color: #d4ebff;}#sk-container-id-1 div.sk-parallel-item::after {content: \"\";width: 100%;border-bottom: 1px solid gray;flex-grow: 1;}#sk-container-id-1 div.sk-label:hover label.sk-toggleable__label {background-color: #d4ebff;}#sk-container-id-1 div.sk-serial::before {content: \"\";position: absolute;border-left: 1px solid gray;box-sizing: border-box;top: 0;bottom: 0;left: 50%;z-index: 0;}#sk-container-id-1 div.sk-serial {display: flex;flex-direction: column;align-items: center;background-color: white;padding-right: 0.2em;padding-left: 0.2em;position: relative;}#sk-container-id-1 div.sk-item {position: relative;z-index: 1;}#sk-container-id-1 div.sk-parallel {display: flex;align-items: stretch;justify-content: center;background-color: white;position: relative;}#sk-container-id-1 div.sk-item::before, #sk-container-id-1 div.sk-parallel-item::before {content: \"\";position: absolute;border-left: 1px solid gray;box-sizing: border-box;top: 0;bottom: 0;left: 50%;z-index: -1;}#sk-container-id-1 div.sk-parallel-item {display: flex;flex-direction: column;z-index: 1;position: relative;background-color: white;}#sk-container-id-1 div.sk-parallel-item:first-child::after {align-self: flex-end;width: 50%;}#sk-container-id-1 div.sk-parallel-item:last-child::after {align-self: flex-start;width: 50%;}#sk-container-id-1 div.sk-parallel-item:only-child::after {width: 0;}#sk-container-id-1 div.sk-dashed-wrapped {border: 1px dashed gray;margin: 0 0.4em 0.5em 0.4em;box-sizing: border-box;padding-bottom: 0.4em;background-color: white;}#sk-container-id-1 div.sk-label label {font-family: monospace;font-weight: bold;display: inline-block;line-height: 1.2em;}#sk-container-id-1 div.sk-label-container {text-align: center;}#sk-container-id-1 div.sk-container {/* jupyter's `normalize.less` sets `[hidden] { display: none; }` but bootstrap.min.css set `[hidden] { display: none !important; }` so we also need the `!important` here to be able to override the default hidden behavior on the sphinx rendered scikit-learn.org. See: https://github.com/scikit-learn/scikit-learn/issues/21755 */display: inline-block !important;position: relative;}#sk-container-id-1 div.sk-text-repr-fallback {display: none;}</style><div id=\"sk-container-id-1\" class=\"sk-top-container\"><div class=\"sk-text-repr-fallback\"><pre>KMeans(n_clusters=10, random_state=69)</pre><b>In a Jupyter environment, please rerun this cell to show the HTML representation or trust the notebook. <br />On GitHub, the HTML representation is unable to render, please try loading this page with nbviewer.org.</b></div><div class=\"sk-container\" hidden><div class=\"sk-item\"><div class=\"sk-estimator sk-toggleable\"><input class=\"sk-toggleable__control sk-hidden--visually\" id=\"sk-estimator-id-1\" type=\"checkbox\" checked><label for=\"sk-estimator-id-1\" class=\"sk-toggleable__label sk-toggleable__label-arrow\">KMeans</label><div class=\"sk-toggleable__content\"><pre>KMeans(n_clusters=10, random_state=69)</pre></div></div></div></div></div>"
      ],
      "text/plain": [
       "KMeans(n_clusters=10, random_state=69)"
      ]
     },
     "execution_count": 7,
     "metadata": {},
     "output_type": "execute_result"
    }
   ],
   "source": [
    "kmeans = KMeans(n_clusters=10, random_state=69)\n",
    "kmeans.fit(X_prep)"
   ]
  },
  {
   "cell_type": "code",
   "execution_count": 8,
   "metadata": {},
   "outputs": [],
   "source": [
    "clusters = kmeans.predict(X_prep)"
   ]
  },
  {
   "cell_type": "code",
   "execution_count": 9,
   "metadata": {},
   "outputs": [
    {
     "data": {
      "image/png": "[encoded data removed]",
      "text/plain": [
       "<Figure size 360x360 with 1 Axes>"
      ]
     },
     "metadata": {
      "needs_background": "light"
     },
     "output_type": "display_data"
    }
   ],
   "source": [
    "# Just testing a visualization to understand what we are doing when we cluster.\n",
    "\n",
    "plt.figure(figsize=(5, 5))\n",
    "plt.scatter(X_prep[:, 1], X_prep[:, 5], c=clusters, alpha=0.5)\n",
    "plt.show()"
   ]
  },
  {
   "cell_type": "code",
   "execution_count": 10,
   "metadata": {},
   "outputs": [
    {
     "data": {
      "text/plain": [
       "0    1281\n",
       "1    2070\n",
       "2    1770\n",
       "3    1314\n",
       "4     101\n",
       "5     493\n",
       "6     425\n",
       "7     397\n",
       "8    1544\n",
       "9     549\n",
       "dtype: int64"
      ]
     },
     "execution_count": 10,
     "metadata": {},
     "output_type": "execute_result"
    }
   ],
   "source": [
    "# Looking at the fitted and predicted cluster values and their frequency by song\n",
    "\n",
    "pd.Series(clusters).value_counts().sort_index()"
   ]
  },
  {
   "cell_type": "code",
   "execution_count": 11,
   "metadata": {},
   "outputs": [
    {
     "data": {
      "text/plain": [
       "66719.00077530679"
      ]
     },
     "execution_count": 11,
     "metadata": {},
     "output_type": "execute_result"
    }
   ],
   "source": [
    "# With k = 10, the intertia scores are very close. I think this is a good n.\n",
    "\n",
    "kmeans.inertia_ "
   ]
  },
  {
   "cell_type": "code",
   "execution_count": 12,
   "metadata": {},
   "outputs": [
    {
     "name": "stdout",
     "output_type": "stream",
     "text": [
      "66746.50923769764\n"
     ]
    }
   ],
   "source": [
    "kmeans = KMeans(n_clusters=10,\n",
    "                init=\"random\",\n",
    "                n_init=100,\n",
    "                max_iter=10,\n",
    "                tol=0,\n",
    "                random_state=69)\n",
    "kmeans.fit(X_prep)\n",
    "print(kmeans.inertia_)"
   ]
  },
  {
   "cell_type": "code",
   "execution_count": 452,
   "metadata": {},
   "outputs": [
    {
     "data": {
      "text/plain": [
       "Text(0.5, 1.0, 'Elbow Method showing the optimal k')"
      ]
     },
     "execution_count": 452,
     "metadata": {},
     "output_type": "execute_result"
    },
    {
     "data": {
      "image/png": "[encoded data removed]",
      "text/plain": [
       "<Figure size 1152x576 with 1 Axes>"
      ]
     },
     "metadata": {
      "needs_background": "light"
     },
     "output_type": "display_data"
    }
   ],
   "source": [
    "# Checking optimal inertia to k clusters ratio. I chose k=10\n",
    "\n",
    "K = range(2, 20)\n",
    "inertia = []\n",
    "\n",
    "for k in K:\n",
    "    kmeans = KMeans(n_clusters=k,\n",
    "                    random_state=69)\n",
    "    kmeans.fit(X_prep)\n",
    "    inertia.append(kmeans.inertia_)\n",
    "\n",
    "plt.figure(figsize=(16,8))\n",
    "plt.plot(K, inertia, 'bx-')\n",
    "plt.xlabel('k')\n",
    "plt.ylabel('inertia')\n",
    "plt.xticks(np.arange(min(K), max(K)+1, 1.0))\n",
    "plt.title('Elbow Method showing the optimal k')"
   ]
  },
  {
   "cell_type": "code",
   "execution_count": 453,
   "metadata": {},
   "outputs": [
    {
     "data": {
      "text/plain": [
       "Text(0.5, 1.0, 'Slhouette score showing the optimal k')"
      ]
     },
     "execution_count": 453,
     "metadata": {},
     "output_type": "execute_result"
    },
    {
     "data": {
      "image/png": "[encoded data removed]",
      "text/plain": [
       "<Figure size 1152x576 with 1 Axes>"
      ]
     },
     "metadata": {
      "needs_background": "light"
     },
     "output_type": "display_data"
    }
   ],
   "source": [
    "# Silhouette score. I chose k=10\n",
    "\n",
    "K = range(2, 20)\n",
    "silhouette = []\n",
    "\n",
    "for k in K:\n",
    "    kmeans = KMeans(n_clusters=k,\n",
    "                    random_state=69)\n",
    "    kmeans.fit(X_prep)\n",
    "    silhouette.append(silhouette_score(X_prep, kmeans.predict(X_prep)))\n",
    "\n",
    "plt.figure(figsize=(16,8))\n",
    "plt.plot(K, silhouette, 'bx-')\n",
    "plt.xlabel('k')\n",
    "plt.ylabel('silhouette score')\n",
    "plt.xticks(np.arange(min(K), max(K)+1, 1.0))\n",
    "plt.title('Slhouette score showing the optimal k')"
   ]
  },
  {
   "cell_type": "code",
   "execution_count": 13,
   "metadata": {},
   "outputs": [],
   "source": [
    "# Add the cluster column assigned to each song in the playlist\n",
    "\n",
    "gnod_songs['cluster'] = kmeans.fit_predict(X_prep)"
   ]
  },
  {
   "cell_type": "code",
   "execution_count": null,
   "metadata": {},
   "outputs": [],
   "source": [
    "# Success: New column for 'cluster' added\n",
    "\n",
    "gnod_songs "
   ]
  },
  {
   "cell_type": "code",
   "execution_count": 14,
   "metadata": {},
   "outputs": [
    {
     "data": {
      "text/plain": [
       "3    2067\n",
       "5    1685\n",
       "1    1678\n",
       "8    1278\n",
       "2    1259\n",
       "0     546\n",
       "4     504\n",
       "6     425\n",
       "9     402\n",
       "7     100\n",
       "Name: cluster, dtype: int64"
      ]
     },
     "execution_count": 14,
     "metadata": {},
     "output_type": "execute_result"
    }
   ],
   "source": [
    "gnod_songs['cluster'].value_counts(sort=True)"
   ]
  },
  {
   "cell_type": "code",
   "execution_count": 15,
   "metadata": {},
   "outputs": [
    {
     "data": {
      "text/plain": [
       "(array([ 546., 1678., 1259., 2067.,  504., 1685.,  425.,  100., 1680.]),\n",
       " array([0., 1., 2., 3., 4., 5., 6., 7., 8., 9.]),\n",
       " <BarContainer object of 9 artists>)"
      ]
     },
     "execution_count": 15,
     "metadata": {},
     "output_type": "execute_result"
    },
    {
     "data": {
      "image/png": "[encoded data removed]",
      "text/plain": [
       "<Figure size 432x288 with 1 Axes>"
      ]
     },
     "metadata": {
      "needs_background": "light"
     },
     "output_type": "display_data"
    }
   ],
   "source": [
    "# Visualizing the frequency histogram of clusters for the 10 clusters\n",
    "\n",
    "plt.hist(gnod_songs['cluster'], bins=9)"
   ]
  },
  {
   "cell_type": "code",
   "execution_count": null,
   "metadata": {},
   "outputs": [],
   "source": [
    "# Not clustering with the Kaggle dataset yet. Should I do that?"
   ]
  },
  {
   "cell_type": "markdown",
   "metadata": {},
   "source": [
    "## Updated recommendation tool (TBD)"
   ]
  },
  {
   "cell_type": "code",
   "execution_count": null,
   "metadata": {},
   "outputs": [],
   "source": [
    "# 2. Assemble the project pipeline:\n",
    "# When the user inputs a song, you should be able to:\n",
    "# - receive an input song from a user. let’s imagine it’s Bohemian Rhapsody\n",
    "# - check if Bohemian Rhapsody is hot. it’s not, so...\n",
    "# - send “Bohemian Rhapsody” to the Spotify API and get its audio features. store them in a variable called, for example, song_audio_features\n",
    "# - scale the audio features using song_scaled = scaler.transform(song_audio_features) (this is the scaler we created above!)\n",
    "# - get the cluster of the song, using kmeans.predict(song_scaled) (this is the kmeans model we created above!). Let’s imagine it’s cluster 3.\n",
    "# - rom your dataframe of collected songs X , get a song that belongs to cluster 3. Let’s imagine it’s Stairway to Heaven.\n",
    "# - print Stairway to Heaven: this is your recommendation!"
   ]
  },
  {
   "cell_type": "code",
   "execution_count": 44,
   "metadata": {},
   "outputs": [],
   "source": [
    "def song_recommender(input):\n",
    "    \n",
    "    # check if it is inside top_hits\n",
    "    if input in my_list_lower:\n",
    "        random_rec = np.random.choice(my_list_lower)\n",
    "        # if it is -> recommend another top_hits\n",
    "        return print('Based on your input, we recommend: ' + random_rec)\n",
    "\n",
    "    # if it's not in our top 200 list, we need to search in Spotify  \n",
    "    else:\n",
    "        credentials = open(\"spotify_key.txt\",\"r\")\n",
    "        string = credentials.read()\n",
    "        secrets_dict={}                            \n",
    "        for line in string.split('\\n'):\n",
    "            secrets_dict[line.split(':')[0]]=line.split(':')[1]\n",
    "\n",
    "        sp = spotipy.Spotify(auth_manager=SpotifyClientCredentials(client_id=secrets_dict['cid'],client_secret=secrets_dict['csecret']))\n",
    "\n",
    "    # getting the info of the song from Spotify\n",
    "        results = sp.search(q=input, type='track', limit=1)\n",
    "\n",
    "    # get the title-artist-uri\n",
    "        track_name = [results['tracks']['items'][0]['name']]\n",
    "        artist = [results['tracks']['items'][0]['artists'][0]['name']]\n",
    "        uri = results['tracks']['items'][0]['uri']\n",
    "\n",
    "    # extract audio features\n",
    "        audio_features_dict = sp.audio_features(uri)\n",
    "        audio_features_df = pd.DataFrame.from_dict(audio_features_dict) \n",
    "\n",
    "        # creating df with the info of this song\n",
    "        input_artist_track = pd.DataFrame({'song_title':track_name,'artist':artist})\n",
    "        df = pd.concat([input_artist_track, audio_features_df], axis=1)\n",
    "\n",
    "        # separate the numericals to scale\n",
    "        df_num = df.select_dtypes(np.number)\n",
    "\n",
    "        # scale the numerical values \n",
    "        df_scaled = StandardScaler().fit_transform(df_num)\n",
    "\n",
    "    # classify them into one of the clusters\n",
    "        df_cluster = kmeans.predict(df_scaled)\n",
    "\n",
    "    # recommend another song from that cluster\n",
    "        # creating a dataframe with only the songs of this cluster:\n",
    "        input_cluster = gnod_songs[gnod_songs['cluster']==df_cluster[0]]\n",
    "        \n",
    "        #choosing one random song from this group:\n",
    "        return print('Based on your input, we recommend: ' + random.choice(input_cluster['track'].values)) \n",
    "        \n",
    "# TO DO: Need to add artist name since some song names have multiple artists + 'by'"
   ]
  },
  {
   "cell_type": "code",
   "execution_count": 48,
   "metadata": {},
   "outputs": [
    {
     "name": "stdout",
     "output_type": "stream",
     "text": [
      "Welcome to Gnod song recommender!\n",
      "Enter the name of your favorite song to recieve a recommendation:\n",
      "\n",
      "Based on your input, we recommend: Night Train\n"
     ]
    }
   ],
   "source": [
    " # Ask a user for an input\n",
    "\n",
    "print('Welcome to Gnod song recommender!\\n'\n",
    "'Enter the name of your favorite song to recieve a recommendation:\\n')\n",
    "\n",
    "user_input = str(input()).lower()\n",
    "\n",
    "# Initiate recommendation tool\n",
    "song_recommender(user_input) # My input here was 'Pretty Fly (For A White Guy)' and I recieved 'Night Train'\n",
    "\n",
    "# TO DO: Need to make a message for 'song not found in database'"
   ]
  },
  {
   "cell_type": "code",
   "execution_count": 558,
   "metadata": {},
   "outputs": [
    {
     "data": {
      "text/html": [
       "<div>\n",
       "<style scoped>\n",
       "    .dataframe tbody tr th:only-of-type {\n",
       "        vertical-align: middle;\n",
       "    }\n",
       "\n",
       "    .dataframe tbody tr th {\n",
       "        vertical-align: top;\n",
       "    }\n",
       "\n",
       "    .dataframe thead th {\n",
       "        text-align: right;\n",
       "    }\n",
       "</style>\n",
       "<table border=\"1\" class=\"dataframe\">\n",
       "  <thead>\n",
       "    <tr style=\"text-align: right;\">\n",
       "      <th></th>\n",
       "      <th>artist</th>\n",
       "      <th>track</th>\n",
       "      <th>audio_features_danceability</th>\n",
       "      <th>audio_features_energy</th>\n",
       "      <th>audio_features_key</th>\n",
       "      <th>audio_features_loudness</th>\n",
       "      <th>audio_features_mode</th>\n",
       "      <th>audio_features_speechiness</th>\n",
       "      <th>audio_features_acousticness</th>\n",
       "      <th>audio_features_instrumentalness</th>\n",
       "      <th>audio_features_liveness</th>\n",
       "      <th>audio_features_valence</th>\n",
       "      <th>audio_features_tempo</th>\n",
       "      <th>audio_features_duration_ms</th>\n",
       "      <th>audio_features_time_signature</th>\n",
       "      <th>cluster</th>\n",
       "    </tr>\n",
       "  </thead>\n",
       "  <tbody>\n",
       "    <tr>\n",
       "      <th>0</th>\n",
       "      <td>Taylor Swift</td>\n",
       "      <td>...Ready For It?</td>\n",
       "      <td>0.615</td>\n",
       "      <td>0.779</td>\n",
       "      <td>2</td>\n",
       "      <td>-6.454</td>\n",
       "      <td>1</td>\n",
       "      <td>0.135</td>\n",
       "      <td>0.0665</td>\n",
       "      <td>0</td>\n",
       "      <td>0.155</td>\n",
       "      <td>0.453</td>\n",
       "      <td>160.0</td>\n",
       "      <td>208198</td>\n",
       "      <td>4</td>\n",
       "      <td>3</td>\n",
       "    </tr>\n",
       "    <tr>\n",
       "      <th>1</th>\n",
       "      <td>Thomas Rhett</td>\n",
       "      <td>Life Changes</td>\n",
       "      <td>0.687</td>\n",
       "      <td>0.845</td>\n",
       "      <td>7</td>\n",
       "      <td>-4.37</td>\n",
       "      <td>1</td>\n",
       "      <td>0.0576</td>\n",
       "      <td>0.1</td>\n",
       "      <td>0</td>\n",
       "      <td>0.0452</td>\n",
       "      <td>0.809</td>\n",
       "      <td>87.972</td>\n",
       "      <td>190227</td>\n",
       "      <td>4</td>\n",
       "      <td>2</td>\n",
       "    </tr>\n",
       "    <tr>\n",
       "      <th>2</th>\n",
       "      <td>Bruno Mars</td>\n",
       "      <td>24K Magic</td>\n",
       "      <td>0.818</td>\n",
       "      <td>0.803</td>\n",
       "      <td>1</td>\n",
       "      <td>-4.282</td>\n",
       "      <td>1</td>\n",
       "      <td>0.0797</td>\n",
       "      <td>0.034</td>\n",
       "      <td>0</td>\n",
       "      <td>0.153</td>\n",
       "      <td>0.632</td>\n",
       "      <td>106.97</td>\n",
       "      <td>225983</td>\n",
       "      <td>4</td>\n",
       "      <td>8</td>\n",
       "    </tr>\n",
       "    <tr>\n",
       "      <th>3</th>\n",
       "      <td>Ed Sheeran</td>\n",
       "      <td>Galway Girl</td>\n",
       "      <td>0.624</td>\n",
       "      <td>0.876</td>\n",
       "      <td>9</td>\n",
       "      <td>-3.374</td>\n",
       "      <td>1</td>\n",
       "      <td>0.1</td>\n",
       "      <td>0.0735</td>\n",
       "      <td>0</td>\n",
       "      <td>0.327</td>\n",
       "      <td>0.781</td>\n",
       "      <td>99.943</td>\n",
       "      <td>170827</td>\n",
       "      <td>4</td>\n",
       "      <td>2</td>\n",
       "    </tr>\n",
       "    <tr>\n",
       "      <th>4</th>\n",
       "      <td>Ed Sheeran</td>\n",
       "      <td>Photograph</td>\n",
       "      <td>0.614</td>\n",
       "      <td>0.379</td>\n",
       "      <td>4</td>\n",
       "      <td>-10.48</td>\n",
       "      <td>1</td>\n",
       "      <td>0.0476</td>\n",
       "      <td>0.607</td>\n",
       "      <td>0.000464</td>\n",
       "      <td>0.0986</td>\n",
       "      <td>0.201</td>\n",
       "      <td>107.989</td>\n",
       "      <td>258987</td>\n",
       "      <td>4</td>\n",
       "      <td>0</td>\n",
       "    </tr>\n",
       "  </tbody>\n",
       "</table>\n",
       "</div>"
      ],
      "text/plain": [
       "         artist             track audio_features_danceability  \\\n",
       "0  Taylor Swift  ...Ready For It?                       0.615   \n",
       "1  Thomas Rhett      Life Changes                       0.687   \n",
       "2    Bruno Mars         24K Magic                       0.818   \n",
       "3    Ed Sheeran       Galway Girl                       0.624   \n",
       "4    Ed Sheeran        Photograph                       0.614   \n",
       "\n",
       "  audio_features_energy audio_features_key audio_features_loudness  \\\n",
       "0                 0.779                  2                  -6.454   \n",
       "1                 0.845                  7                   -4.37   \n",
       "2                 0.803                  1                  -4.282   \n",
       "3                 0.876                  9                  -3.374   \n",
       "4                 0.379                  4                  -10.48   \n",
       "\n",
       "  audio_features_mode audio_features_speechiness audio_features_acousticness  \\\n",
       "0                   1                      0.135                      0.0665   \n",
       "1                   1                     0.0576                         0.1   \n",
       "2                   1                     0.0797                       0.034   \n",
       "3                   1                        0.1                      0.0735   \n",
       "4                   1                     0.0476                       0.607   \n",
       "\n",
       "  audio_features_instrumentalness audio_features_liveness  \\\n",
       "0                               0                   0.155   \n",
       "1                               0                  0.0452   \n",
       "2                               0                   0.153   \n",
       "3                               0                   0.327   \n",
       "4                        0.000464                  0.0986   \n",
       "\n",
       "  audio_features_valence audio_features_tempo audio_features_duration_ms  \\\n",
       "0                  0.453                160.0                     208198   \n",
       "1                  0.809               87.972                     190227   \n",
       "2                  0.632               106.97                     225983   \n",
       "3                  0.781               99.943                     170827   \n",
       "4                  0.201              107.989                     258987   \n",
       "\n",
       "  audio_features_time_signature  cluster  \n",
       "0                             4        3  \n",
       "1                             4        2  \n",
       "2                             4        8  \n",
       "3                             4        2  \n",
       "4                             4        0  "
      ]
     },
     "execution_count": 558,
     "metadata": {},
     "output_type": "execute_result"
    }
   ],
   "source": [
    "# Testing whether 'Pretty Fly (For A White Guy)' and 'Night Train' cluster ids match\n",
    "\n",
    "# Both from cluster 5 so the tool is technically a success! Although these songs are in no way similar beyond audio features...\n",
    "\n",
    "gnod_songs.head()"
   ]
  },
  {
   "cell_type": "code",
   "execution_count": 47,
   "metadata": {},
   "outputs": [
    {
     "data": {
      "text/html": [
       "<div>\n",
       "<style scoped>\n",
       "    .dataframe tbody tr th:only-of-type {\n",
       "        vertical-align: middle;\n",
       "    }\n",
       "\n",
       "    .dataframe tbody tr th {\n",
       "        vertical-align: top;\n",
       "    }\n",
       "\n",
       "    .dataframe thead th {\n",
       "        text-align: right;\n",
       "    }\n",
       "</style>\n",
       "<table border=\"1\" class=\"dataframe\">\n",
       "  <thead>\n",
       "    <tr style=\"text-align: right;\">\n",
       "      <th></th>\n",
       "      <th>artist</th>\n",
       "      <th>track</th>\n",
       "      <th>audio_features_danceability</th>\n",
       "      <th>audio_features_energy</th>\n",
       "      <th>audio_features_key</th>\n",
       "      <th>audio_features_loudness</th>\n",
       "      <th>audio_features_mode</th>\n",
       "      <th>audio_features_speechiness</th>\n",
       "      <th>audio_features_acousticness</th>\n",
       "      <th>audio_features_instrumentalness</th>\n",
       "      <th>audio_features_liveness</th>\n",
       "      <th>audio_features_valence</th>\n",
       "      <th>audio_features_tempo</th>\n",
       "      <th>audio_features_duration_ms</th>\n",
       "      <th>audio_features_time_signature</th>\n",
       "      <th>cluster</th>\n",
       "    </tr>\n",
       "  </thead>\n",
       "  <tbody>\n",
       "    <tr>\n",
       "      <th>6632</th>\n",
       "      <td>The Offspring</td>\n",
       "      <td>Pretty Fly (For A White Guy)</td>\n",
       "      <td>0.599</td>\n",
       "      <td>0.626</td>\n",
       "      <td>10</td>\n",
       "      <td>-6.688</td>\n",
       "      <td>1</td>\n",
       "      <td>0.0306</td>\n",
       "      <td>0.00999</td>\n",
       "      <td>0.000006</td>\n",
       "      <td>0.116</td>\n",
       "      <td>0.319</td>\n",
       "      <td>120.928</td>\n",
       "      <td>214760</td>\n",
       "      <td>4</td>\n",
       "      <td>5</td>\n",
       "    </tr>\n",
       "  </tbody>\n",
       "</table>\n",
       "</div>"
      ],
      "text/plain": [
       "             artist                         track  \\\n",
       "6632  The Offspring  Pretty Fly (For A White Guy)   \n",
       "\n",
       "      audio_features_danceability  audio_features_energy  audio_features_key  \\\n",
       "6632                        0.599                  0.626                  10   \n",
       "\n",
       "      audio_features_loudness  audio_features_mode  \\\n",
       "6632                   -6.688                    1   \n",
       "\n",
       "      audio_features_speechiness  audio_features_acousticness  \\\n",
       "6632                      0.0306                      0.00999   \n",
       "\n",
       "      audio_features_instrumentalness  audio_features_liveness  \\\n",
       "6632                         0.000006                    0.116   \n",
       "\n",
       "      audio_features_valence  audio_features_tempo  \\\n",
       "6632                   0.319               120.928   \n",
       "\n",
       "      audio_features_duration_ms  audio_features_time_signature  cluster  \n",
       "6632                      214760                              4        5  "
      ]
     },
     "execution_count": 47,
     "metadata": {},
     "output_type": "execute_result"
    }
   ],
   "source": [
    "gnod_songs.loc[gnod_songs['track'] == 'Pretty Fly (For A White Guy)']"
   ]
  },
  {
   "cell_type": "code",
   "execution_count": 49,
   "metadata": {},
   "outputs": [
    {
     "data": {
      "text/html": [
       "<div>\n",
       "<style scoped>\n",
       "    .dataframe tbody tr th:only-of-type {\n",
       "        vertical-align: middle;\n",
       "    }\n",
       "\n",
       "    .dataframe tbody tr th {\n",
       "        vertical-align: top;\n",
       "    }\n",
       "\n",
       "    .dataframe thead th {\n",
       "        text-align: right;\n",
       "    }\n",
       "</style>\n",
       "<table border=\"1\" class=\"dataframe\">\n",
       "  <thead>\n",
       "    <tr style=\"text-align: right;\">\n",
       "      <th></th>\n",
       "      <th>artist</th>\n",
       "      <th>track</th>\n",
       "      <th>audio_features_danceability</th>\n",
       "      <th>audio_features_energy</th>\n",
       "      <th>audio_features_key</th>\n",
       "      <th>audio_features_loudness</th>\n",
       "      <th>audio_features_mode</th>\n",
       "      <th>audio_features_speechiness</th>\n",
       "      <th>audio_features_acousticness</th>\n",
       "      <th>audio_features_instrumentalness</th>\n",
       "      <th>audio_features_liveness</th>\n",
       "      <th>audio_features_valence</th>\n",
       "      <th>audio_features_tempo</th>\n",
       "      <th>audio_features_duration_ms</th>\n",
       "      <th>audio_features_time_signature</th>\n",
       "      <th>cluster</th>\n",
       "    </tr>\n",
       "  </thead>\n",
       "  <tbody>\n",
       "    <tr>\n",
       "      <th>757</th>\n",
       "      <td>Jason Aldean</td>\n",
       "      <td>Night Train</td>\n",
       "      <td>0.549</td>\n",
       "      <td>0.866</td>\n",
       "      <td>6</td>\n",
       "      <td>-5.306</td>\n",
       "      <td>1</td>\n",
       "      <td>0.0476</td>\n",
       "      <td>0.0733</td>\n",
       "      <td>0.0</td>\n",
       "      <td>0.25</td>\n",
       "      <td>0.767</td>\n",
       "      <td>87.964</td>\n",
       "      <td>187400</td>\n",
       "      <td>4</td>\n",
       "      <td>5</td>\n",
       "    </tr>\n",
       "  </tbody>\n",
       "</table>\n",
       "</div>"
      ],
      "text/plain": [
       "           artist        track  audio_features_danceability  \\\n",
       "757  Jason Aldean  Night Train                        0.549   \n",
       "\n",
       "     audio_features_energy  audio_features_key  audio_features_loudness  \\\n",
       "757                  0.866                   6                   -5.306   \n",
       "\n",
       "     audio_features_mode  audio_features_speechiness  \\\n",
       "757                    1                      0.0476   \n",
       "\n",
       "     audio_features_acousticness  audio_features_instrumentalness  \\\n",
       "757                       0.0733                              0.0   \n",
       "\n",
       "     audio_features_liveness  audio_features_valence  audio_features_tempo  \\\n",
       "757                     0.25                   0.767                87.964   \n",
       "\n",
       "     audio_features_duration_ms  audio_features_time_signature  cluster  \n",
       "757                      187400                              4        5  "
      ]
     },
     "execution_count": 49,
     "metadata": {},
     "output_type": "execute_result"
    }
   ],
   "source": [
    "gnod_songs.loc[gnod_songs['track'] == 'Night Train']"
   ]
  }
 ],
 "metadata": {
  "kernelspec": {
   "display_name": "Python 3.9.12 ('base')",
   "language": "python",
   "name": "python3"
  },
  "language_info": {
   "codemirror_mode": {
    "name": "ipython",
    "version": 3
   },
   "file_extension": ".py",
   "mimetype": "text/x-python",
   "name": "python",
   "nbconvert_exporter": "python",
   "pygments_lexer": "ipython3",
   "version": "3.9.12"
  },
  "orig_nbformat": 4,
  "vscode": {
   "interpreter": {
    "hash": "40d3a090f54c6569ab1632332b64b2c03c39dcf918b08424e98f38b5ae0af88f"
   }
  }
 },
 "nbformat": 4,
 "nbformat_minor": 2
}
